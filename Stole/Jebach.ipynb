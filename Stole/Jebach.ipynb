{
 "cells": [
  {
   "cell_type": "code",
   "execution_count": 18,
   "metadata": {},
   "outputs": [
    {
     "data": {
      "text/plain": [
       "True"
      ]
     },
     "execution_count": 18,
     "metadata": {},
     "output_type": "execute_result"
    }
   ],
   "source": [
    "import pandas as pd\n",
    "import numpy as np\n",
    "import torch\n",
    "torch.cuda.is_available()"
   ]
  },
  {
   "cell_type": "code",
   "execution_count": 19,
   "metadata": {},
   "outputs": [
    {
     "name": "stdout",
     "output_type": "stream",
     "text": [
      "Device: cuda:0\n"
     ]
    }
   ],
   "source": [
    "use_cuda = torch.cuda.is_available()\n",
    "device = torch.device('cuda:0' if use_cuda else 'cpu')\n",
    "print(f'Device: {device}')"
   ]
  },
  {
   "cell_type": "code",
   "execution_count": 20,
   "metadata": {},
   "outputs": [],
   "source": [
    "ST_PATH = '../Datasets/stationary.csv'\n",
    "\n",
    "stationary_data = [], []\n",
    "\n",
    "with open(ST_PATH, 'r') as f:\n",
    "    next(f)\n",
    "    \n",
    "    for line in f:\n",
    "        l = line.strip().split(',')\n",
    "        \n",
    "        code = l[0].replace('\"', '')\n",
    "        values = np.array([float(e) for e in l[1:]], dtype=np.float32)\n",
    "        \n",
    "        stationary_data[0].append(code)\n",
    "        stationary_data[1].append(values)"
   ]
  },
  {
   "cell_type": "code",
   "execution_count": 21,
   "metadata": {},
   "outputs": [],
   "source": [
    "from sklearn.preprocessing import StandardScaler\n",
    "\n",
    "stationary_X = StandardScaler().fit_transform(stationary_data[1])\n",
    "stationary_data = {k: v for k, v in zip(stationary_data[0], np.array(stationary_X, dtype=np.float32))}"
   ]
  },
  {
   "cell_type": "code",
   "execution_count": 22,
   "metadata": {},
   "outputs": [
    {
     "data": {
      "text/html": [
       "<div>\n",
       "<style scoped>\n",
       "    .dataframe tbody tr th:only-of-type {\n",
       "        vertical-align: middle;\n",
       "    }\n",
       "\n",
       "    .dataframe tbody tr th {\n",
       "        vertical-align: top;\n",
       "    }\n",
       "\n",
       "    .dataframe thead th {\n",
       "        text-align: right;\n",
       "    }\n",
       "</style>\n",
       "<table border=\"1\" class=\"dataframe\">\n",
       "  <thead>\n",
       "    <tr style=\"text-align: right;\">\n",
       "      <th></th>\n",
       "      <th>date</th>\n",
       "      <th>confirmed</th>\n",
       "      <th>recovered</th>\n",
       "      <th>deaths</th>\n",
       "      <th>country_code</th>\n",
       "      <th>StringencyIndex</th>\n",
       "      <th>StringencyIndexForDisplay</th>\n",
       "      <th>cum_cases</th>\n",
       "      <th>cum_recovered</th>\n",
       "      <th>cum_deaths</th>\n",
       "      <th>since_first</th>\n",
       "    </tr>\n",
       "  </thead>\n",
       "  <tbody>\n",
       "    <tr>\n",
       "      <th>0</th>\n",
       "      <td>2020-02-24</td>\n",
       "      <td>1</td>\n",
       "      <td>0</td>\n",
       "      <td>0</td>\n",
       "      <td>AFG</td>\n",
       "      <td>0.0</td>\n",
       "      <td>0.0</td>\n",
       "      <td>1</td>\n",
       "      <td>0</td>\n",
       "      <td>0</td>\n",
       "      <td>0</td>\n",
       "    </tr>\n",
       "    <tr>\n",
       "      <th>1</th>\n",
       "      <td>2020-02-25</td>\n",
       "      <td>0</td>\n",
       "      <td>0</td>\n",
       "      <td>0</td>\n",
       "      <td>AFG</td>\n",
       "      <td>0.0</td>\n",
       "      <td>0.0</td>\n",
       "      <td>1</td>\n",
       "      <td>0</td>\n",
       "      <td>0</td>\n",
       "      <td>1</td>\n",
       "    </tr>\n",
       "    <tr>\n",
       "      <th>2</th>\n",
       "      <td>2020-02-26</td>\n",
       "      <td>0</td>\n",
       "      <td>0</td>\n",
       "      <td>0</td>\n",
       "      <td>AFG</td>\n",
       "      <td>0.0</td>\n",
       "      <td>0.0</td>\n",
       "      <td>1</td>\n",
       "      <td>0</td>\n",
       "      <td>0</td>\n",
       "      <td>2</td>\n",
       "    </tr>\n",
       "    <tr>\n",
       "      <th>3</th>\n",
       "      <td>2020-02-27</td>\n",
       "      <td>0</td>\n",
       "      <td>0</td>\n",
       "      <td>0</td>\n",
       "      <td>AFG</td>\n",
       "      <td>0.0</td>\n",
       "      <td>0.0</td>\n",
       "      <td>1</td>\n",
       "      <td>0</td>\n",
       "      <td>0</td>\n",
       "      <td>3</td>\n",
       "    </tr>\n",
       "    <tr>\n",
       "      <th>4</th>\n",
       "      <td>2020-02-28</td>\n",
       "      <td>0</td>\n",
       "      <td>0</td>\n",
       "      <td>0</td>\n",
       "      <td>AFG</td>\n",
       "      <td>0.0</td>\n",
       "      <td>0.0</td>\n",
       "      <td>1</td>\n",
       "      <td>0</td>\n",
       "      <td>0</td>\n",
       "      <td>4</td>\n",
       "    </tr>\n",
       "  </tbody>\n",
       "</table>\n",
       "</div>"
      ],
      "text/plain": [
       "        date  confirmed  recovered  deaths country_code  StringencyIndex  \\\n",
       "0 2020-02-24          1          0       0          AFG              0.0   \n",
       "1 2020-02-25          0          0       0          AFG              0.0   \n",
       "2 2020-02-26          0          0       0          AFG              0.0   \n",
       "3 2020-02-27          0          0       0          AFG              0.0   \n",
       "4 2020-02-28          0          0       0          AFG              0.0   \n",
       "\n",
       "   StringencyIndexForDisplay  cum_cases  cum_recovered  cum_deaths  \\\n",
       "0                        0.0          1              0           0   \n",
       "1                        0.0          1              0           0   \n",
       "2                        0.0          1              0           0   \n",
       "3                        0.0          1              0           0   \n",
       "4                        0.0          1              0           0   \n",
       "\n",
       "   since_first  \n",
       "0            0  \n",
       "1            1  \n",
       "2            2  \n",
       "3            3  \n",
       "4            4  "
      ]
     },
     "execution_count": 22,
     "metadata": {},
     "output_type": "execute_result"
    }
   ],
   "source": [
    "TS_PATH = '../Datasets/time_variable.csv'\n",
    "\n",
    "df_ts = pd.read_csv(TS_PATH, parse_dates=['date'])\n",
    "df_ts.head()"
   ]
  },
  {
   "cell_type": "code",
   "execution_count": 23,
   "metadata": {},
   "outputs": [
    {
     "data": {
      "text/plain": [
       "196"
      ]
     },
     "execution_count": 23,
     "metadata": {},
     "output_type": "execute_result"
    }
   ],
   "source": [
    "ts_grouped = df_ts.groupby('country_code')\n",
    "\n",
    "ts_data = {}\n",
    "\n",
    "for name, df in ts_grouped:\n",
    "    array = df.drop(['date', 'country_code'], 1).values\n",
    "    ts_data[name] = np.array(array, dtype=np.float32)\n",
    "    \n",
    "len(ts_data)"
   ]
  },
  {
   "cell_type": "code",
   "execution_count": 30,
   "metadata": {},
   "outputs": [
    {
     "data": {
      "text/plain": [
       "(array([[  50.   ,   56.   ,    2.   ,   86.395,  100.   , 1791.   ,\n",
       "          529.   ,   35.   ,   51.   ]], dtype=float32),\n",
       " array([ 50.   ,  56.   ,   2.   ,  86.395, 100.   ], dtype=float32))"
      ]
     },
     "execution_count": 30,
     "metadata": {},
     "output_type": "execute_result"
    }
   ],
   "source": [
    "ts_dataset = {}\n",
    "\n",
    "WINDOW = 1\n",
    "\n",
    "for code, array in ts_data.items():\n",
    "    X, Y = [], []\n",
    "    \n",
    "    for i in range(len(array) - WINDOW):\n",
    "        x = array[i:i+WINDOW].T\n",
    "        y = array[i+WINDOW, [0, 1, 2, 3, 4]]\n",
    "        \n",
    "        X.append(x)\n",
    "        Y.append(y)\n",
    "        \n",
    "    ts_dataset[code] = (X, Y)\n",
    "    \n",
    "ts_dataset['HRV'][0][-1].T, ts_dataset['HRV'][1][-2]"
   ]
  },
  {
   "cell_type": "code",
   "execution_count": 31,
   "metadata": {},
   "outputs": [
    {
     "data": {
      "text/plain": [
       "('AFG', array([[ 1.  ],\n",
       "        [ 0.  ],\n",
       "        [ 0.  ],\n",
       "        [42.86],\n",
       "        [42.86],\n",
       "        [22.  ],\n",
       "        [ 1.  ],\n",
       "        [ 0.  ],\n",
       "        [22.  ]], dtype=float32), array([-0.49340332, -0.55448234, -0.6626172 , -0.6663111 , -1.1002071 ,\n",
       "        -0.20613728, -1.7264656 ], dtype=float32), array([ 0.  ,  0.  ,  0.  , 42.86, 42.86], dtype=float32))"
      ]
     },
     "execution_count": 31,
     "metadata": {},
     "output_type": "execute_result"
    }
   ],
   "source": [
    "from torch.utils.data import Dataset\n",
    "from collections import namedtuple\n",
    "\n",
    "Example = namedtuple('Example', ['code', 'x', 'y'])\n",
    "\n",
    "class CovidData(Dataset):\n",
    "    def __init__(self, ts, st, transform=None):\n",
    "        self.st = st\n",
    "        self.transform = transform\n",
    "        \n",
    "        self.data = []\n",
    "        for code, (X, Y) in ts.items():\n",
    "            for x, y in zip(X, Y):\n",
    "                e = Example(code, x, y)\n",
    "                self.data.append(e)\n",
    "                \n",
    "    def __getitem__(self, idx):\n",
    "        code, x, y = self.data[idx]\n",
    "        st = self.st[code]\n",
    "        \n",
    "        sample = code, x, st, y\n",
    "        \n",
    "        if self.transform:\n",
    "            sample = self.transform(sample)\n",
    "            \n",
    "        return sample\n",
    "    \n",
    "    def __len__(self):\n",
    "        return len(self.data)\n",
    "    \n",
    "train_data = CovidData(ts_dataset, stationary_data)\n",
    "\n",
    "train_data[57]"
   ]
  },
  {
   "cell_type": "code",
   "execution_count": 27,
   "metadata": {},
   "outputs": [],
   "source": [
    "import torch.nn as nn\n",
    "import torch.nn.functional as F\n",
    "\n",
    "class Model(nn.Module):\n",
    "    def __init__(self):\n",
    "        super(Model, self).__init__()\n",
    "        \n",
    "        self.st = nn.Sequential(\n",
    "            nn.Linear(7, 16, bias=False),\n",
    "            nn.BatchNorm1d(16),\n",
    "            nn.ReLU(),\n",
    "            nn.Linear(16, 32, bias=False),\n",
    "            nn.BatchNorm1d(32),\n",
    "            nn.ReLU(),\n",
    "            nn.Linear(32, 8)\n",
    "        )\n",
    "        \n",
    "        self.ts = nn.Sequential(\n",
    "            nn.Conv1d(9, 16, kernel_size=7, stride=1, padding=3, bias=False),\n",
    "            nn.BatchNorm1d(16),\n",
    "            nn.ReLU(),\n",
    "            nn.Conv1d(16, 32, kernel_size=1, stride=1, padding=0, bias=False),\n",
    "            nn.BatchNorm1d(32),\n",
    "            nn.ReLU(),\n",
    "            nn.Conv1d(32, 64, kernel_size=3, stride=2, padding=1, bias=False),\n",
    "            nn.BatchNorm1d(64),\n",
    "            nn.ReLU(),\n",
    "            nn.Conv1d(64, 128, kernel_size=1, stride=1, padding=0, bias=False),\n",
    "            nn.BatchNorm1d(128),\n",
    "            nn.ReLU(),\n",
    "            nn.Conv1d(128, 64, kernel_size=3, stride=1, padding=1),\n",
    "            nn.AdaptiveAvgPool1d(4)\n",
    "        )\n",
    "        \n",
    "        \n",
    "        self.joint = nn.Sequential(\n",
    "            nn.Linear(8+64*4, 32, bias=False),\n",
    "            nn.BatchNorm1d(32),\n",
    "            nn.ReLU(),\n",
    "            nn.Linear(32, 5)\n",
    "        )\n",
    "        \n",
    "    def forward(self, ts, st):\n",
    "        ts = self.ts(ts).reshape(-1, 64*4)\n",
    "        st = self.st(st)\n",
    "        \n",
    "        x = torch.cat((ts, st), 1)\n",
    "        return self.joint(x)\n",
    "    \n",
    "class Model(nn.Module):\n",
    "    def __init__(self):\n",
    "        super(Model, self).__init__()\n",
    "        \n",
    "        self.fc = nn.Linear(9, 5)\n",
    "        \n",
    "    def forward(self, x):\n",
    "        return self.fc(x)"
   ]
  },
  {
   "cell_type": "code",
   "execution_count": null,
   "metadata": {},
   "outputs": [],
   "source": []
  },
  {
   "cell_type": "code",
   "execution_count": null,
   "metadata": {},
   "outputs": [],
   "source": [
    "code, x, st, y = next(iter(dl))\n",
    "x, st, y = x.to(device), st.to(device), y.to(device)\n",
    "\n",
    "model(x, st)"
   ]
  },
  {
   "cell_type": "code",
   "execution_count": 3,
   "metadata": {},
   "outputs": [],
   "source": [
    "from fbprophet import Prophet\n",
    "import pandas as pd\n",
    "import numpy as np"
   ]
  },
  {
   "cell_type": "code",
   "execution_count": 16,
   "metadata": {},
   "outputs": [
    {
     "data": {
      "text/html": [
       "<div>\n",
       "<style scoped>\n",
       "    .dataframe tbody tr th:only-of-type {\n",
       "        vertical-align: middle;\n",
       "    }\n",
       "\n",
       "    .dataframe tbody tr th {\n",
       "        vertical-align: top;\n",
       "    }\n",
       "\n",
       "    .dataframe thead th {\n",
       "        text-align: right;\n",
       "    }\n",
       "</style>\n",
       "<table border=\"1\" class=\"dataframe\">\n",
       "  <thead>\n",
       "    <tr style=\"text-align: right;\">\n",
       "      <th></th>\n",
       "      <th>ds</th>\n",
       "      <th>y</th>\n",
       "    </tr>\n",
       "  </thead>\n",
       "  <tbody>\n",
       "    <tr>\n",
       "      <th>2034</th>\n",
       "      <td>2020-04-11</td>\n",
       "      <td>39</td>\n",
       "    </tr>\n",
       "    <tr>\n",
       "      <th>2035</th>\n",
       "      <td>2020-04-12</td>\n",
       "      <td>66</td>\n",
       "    </tr>\n",
       "    <tr>\n",
       "      <th>2036</th>\n",
       "      <td>2020-04-13</td>\n",
       "      <td>50</td>\n",
       "    </tr>\n",
       "    <tr>\n",
       "      <th>2037</th>\n",
       "      <td>2020-04-14</td>\n",
       "      <td>54</td>\n",
       "    </tr>\n",
       "    <tr>\n",
       "      <th>2038</th>\n",
       "      <td>2020-04-15</td>\n",
       "      <td>37</td>\n",
       "    </tr>\n",
       "    <tr>\n",
       "      <th>2039</th>\n",
       "      <td>2020-04-16</td>\n",
       "      <td>50</td>\n",
       "    </tr>\n",
       "    <tr>\n",
       "      <th>2040</th>\n",
       "      <td>2020-04-17</td>\n",
       "      <td>23</td>\n",
       "    </tr>\n",
       "  </tbody>\n",
       "</table>\n",
       "</div>"
      ],
      "text/plain": [
       "             ds   y\n",
       "2034 2020-04-11  39\n",
       "2035 2020-04-12  66\n",
       "2036 2020-04-13  50\n",
       "2037 2020-04-14  54\n",
       "2038 2020-04-15  37\n",
       "2039 2020-04-16  50\n",
       "2040 2020-04-17  23"
      ]
     },
     "execution_count": 16,
     "metadata": {},
     "output_type": "execute_result"
    }
   ],
   "source": [
    "ts_grouped = df_ts.groupby('country_code')\n",
    "\n",
    "hrv = ts_grouped.get_group('HRV')\n",
    "hrv = hrv.drop(['country_code', 'since_first'], 1)\n",
    "hrv = hrv.rename(columns={'date': 'ds', 'confirmed': 'y'})\n",
    "hrv = hrv[['ds', 'y']]\n",
    "\n",
    "train_hrv = hrv[(hrv['ds'] <= '2020-04-10')]\n",
    "test_hrv = hrv[(hrv['ds'] > '2020-04-10')]\n",
    "\n",
    "test_hrv"
   ]
  },
  {
   "cell_type": "code",
   "execution_count": null,
   "metadata": {},
   "outputs": [],
   "source": []
  }
 ],
 "metadata": {
  "kernelspec": {
   "display_name": "conda_pytorch_p36",
   "language": "python",
   "name": "conda_pytorch_p36"
  },
  "language_info": {
   "codemirror_mode": {
    "name": "ipython",
    "version": 3
   },
   "file_extension": ".py",
   "mimetype": "text/x-python",
   "name": "python",
   "nbconvert_exporter": "python",
   "pygments_lexer": "ipython3",
   "version": "3.6.7"
  }
 },
 "nbformat": 4,
 "nbformat_minor": 4
}
