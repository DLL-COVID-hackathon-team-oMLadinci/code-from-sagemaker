{
 "cells": [
  {
   "cell_type": "code",
   "execution_count": 1,
   "metadata": {},
   "outputs": [
    {
     "name": "stderr",
     "output_type": "stream",
     "text": [
      "Registered S3 methods overwritten by 'ggplot2':\n",
      "  method         from \n",
      "  [.quosures     rlang\n",
      "  c.quosures     rlang\n",
      "  print.quosures rlang\n",
      "Registered S3 method overwritten by 'rvest':\n",
      "  method            from\n",
      "  read_xml.response xml2\n",
      "── Attaching packages ─────────────────────────────────────── tidyverse 1.2.1 ──\n",
      "✔ ggplot2 3.1.1       ✔ purrr   0.3.2  \n",
      "✔ tibble  2.1.1       ✔ dplyr   0.8.0.1\n",
      "✔ tidyr   0.8.3       ✔ stringr 1.4.0  \n",
      "✔ readr   1.3.1       ✔ forcats 0.4.0  \n",
      "── Conflicts ────────────────────────────────────────── tidyverse_conflicts() ──\n",
      "✖ dplyr::filter() masks stats::filter()\n",
      "✖ dplyr::lag()    masks stats::lag()\n"
     ]
    }
   ],
   "source": [
    "library(tidyverse)"
   ]
  },
  {
   "cell_type": "code",
   "execution_count": 62,
   "metadata": {},
   "outputs": [
    {
     "name": "stderr",
     "output_type": "stream",
     "text": [
      "Parsed with column specification:\n",
      "cols(\n",
      "  .default = col_double(),\n",
      "  date = col_date(format = \"\"),\n",
      "  country = col_character(),\n",
      "  country_code = col_character(),\n",
      "  region = col_character()\n",
      ")\n",
      "See spec(...) for full column specifications.\n"
     ]
    },
    {
     "data": {
      "text/html": [
       "<table>\n",
       "<thead><tr><th scope=col>date</th><th scope=col>country</th><th scope=col>confirmed</th><th scope=col>recovered</th><th scope=col>deaths</th><th scope=col>country_code</th><th scope=col>S1_School closing</th><th scope=col>S1_IsGeneral</th><th scope=col>S2_Workplace closing</th><th scope=col>S2_IsGeneral</th><th scope=col>...</th><th scope=col>StringencyIndex</th><th scope=col>StringencyIndexForDisplay</th><th scope=col>region</th><th scope=col>pct_positive</th><th scope=col>test_by_million</th><th scope=col>gdp_per_capita</th><th scope=col>health_expenditure_per_capita</th><th scope=col>percent_population_65_above</th><th scope=col>population_density</th><th scope=col>percent_urban_population</th></tr></thead>\n",
       "<tbody>\n",
       "\t<tr><td>2020-01-22 </td><td>Afghanistan</td><td>0          </td><td>0          </td><td>0          </td><td>AFG        </td><td>0          </td><td>1          </td><td>0          </td><td>NA         </td><td>...        </td><td>0          </td><td>0          </td><td>South Asia </td><td>5.6775     </td><td>445.5      </td><td>520.8966   </td><td>67.12265   </td><td>2.584927   </td><td>56.93776   </td><td>25.495     </td></tr>\n",
       "\t<tr><td>2020-01-23 </td><td>Afghanistan</td><td>0          </td><td>0          </td><td>0          </td><td>AFG        </td><td>0          </td><td>1          </td><td>0          </td><td>NA         </td><td>...        </td><td>0          </td><td>0          </td><td>South Asia </td><td>5.6775     </td><td>445.5      </td><td>520.8966   </td><td>67.12265   </td><td>2.584927   </td><td>56.93776   </td><td>25.495     </td></tr>\n",
       "\t<tr><td>2020-01-24 </td><td>Afghanistan</td><td>0          </td><td>0          </td><td>0          </td><td>AFG        </td><td>0          </td><td>1          </td><td>0          </td><td>NA         </td><td>...        </td><td>0          </td><td>0          </td><td>South Asia </td><td>5.6775     </td><td>445.5      </td><td>520.8966   </td><td>67.12265   </td><td>2.584927   </td><td>56.93776   </td><td>25.495     </td></tr>\n",
       "\t<tr><td>2020-01-25 </td><td>Afghanistan</td><td>0          </td><td>0          </td><td>0          </td><td>AFG        </td><td>0          </td><td>1          </td><td>0          </td><td>NA         </td><td>...        </td><td>0          </td><td>0          </td><td>South Asia </td><td>5.6775     </td><td>445.5      </td><td>520.8966   </td><td>67.12265   </td><td>2.584927   </td><td>56.93776   </td><td>25.495     </td></tr>\n",
       "\t<tr><td>2020-01-26 </td><td>Afghanistan</td><td>0          </td><td>0          </td><td>0          </td><td>AFG        </td><td>0          </td><td>1          </td><td>0          </td><td>NA         </td><td>...        </td><td>0          </td><td>0          </td><td>South Asia </td><td>5.6775     </td><td>445.5      </td><td>520.8966   </td><td>67.12265   </td><td>2.584927   </td><td>56.93776   </td><td>25.495     </td></tr>\n",
       "\t<tr><td>2020-01-27 </td><td>Afghanistan</td><td>0          </td><td>0          </td><td>0          </td><td>AFG        </td><td>0          </td><td>1          </td><td>0          </td><td>NA         </td><td>...        </td><td>0          </td><td>0          </td><td>South Asia </td><td>5.6775     </td><td>445.5      </td><td>520.8966   </td><td>67.12265   </td><td>2.584927   </td><td>56.93776   </td><td>25.495     </td></tr>\n",
       "</tbody>\n",
       "</table>\n"
      ],
      "text/latex": [
       "\\begin{tabular}{r|lllllllllllllllllllllllllllllllllll}\n",
       " date & country & confirmed & recovered & deaths & country\\_code & S1\\_School closing & S1\\_IsGeneral & S2\\_Workplace closing & S2\\_IsGeneral & ... & StringencyIndex & StringencyIndexForDisplay & region & pct\\_positive & test\\_by\\_million & gdp\\_per\\_capita & health\\_expenditure\\_per\\_capita & percent\\_population\\_65\\_above & population\\_density & percent\\_urban\\_population\\\\\n",
       "\\hline\n",
       "\t 2020-01-22  & Afghanistan & 0           & 0           & 0           & AFG         & 0           & 1           & 0           & NA          & ...         & 0           & 0           & South Asia  & 5.6775      & 445.5       & 520.8966    & 67.12265    & 2.584927    & 56.93776    & 25.495     \\\\\n",
       "\t 2020-01-23  & Afghanistan & 0           & 0           & 0           & AFG         & 0           & 1           & 0           & NA          & ...         & 0           & 0           & South Asia  & 5.6775      & 445.5       & 520.8966    & 67.12265    & 2.584927    & 56.93776    & 25.495     \\\\\n",
       "\t 2020-01-24  & Afghanistan & 0           & 0           & 0           & AFG         & 0           & 1           & 0           & NA          & ...         & 0           & 0           & South Asia  & 5.6775      & 445.5       & 520.8966    & 67.12265    & 2.584927    & 56.93776    & 25.495     \\\\\n",
       "\t 2020-01-25  & Afghanistan & 0           & 0           & 0           & AFG         & 0           & 1           & 0           & NA          & ...         & 0           & 0           & South Asia  & 5.6775      & 445.5       & 520.8966    & 67.12265    & 2.584927    & 56.93776    & 25.495     \\\\\n",
       "\t 2020-01-26  & Afghanistan & 0           & 0           & 0           & AFG         & 0           & 1           & 0           & NA          & ...         & 0           & 0           & South Asia  & 5.6775      & 445.5       & 520.8966    & 67.12265    & 2.584927    & 56.93776    & 25.495     \\\\\n",
       "\t 2020-01-27  & Afghanistan & 0           & 0           & 0           & AFG         & 0           & 1           & 0           & NA          & ...         & 0           & 0           & South Asia  & 5.6775      & 445.5       & 520.8966    & 67.12265    & 2.584927    & 56.93776    & 25.495     \\\\\n",
       "\\end{tabular}\n"
      ],
      "text/markdown": [
       "\n",
       "| date | country | confirmed | recovered | deaths | country_code | S1_School closing | S1_IsGeneral | S2_Workplace closing | S2_IsGeneral | ... | StringencyIndex | StringencyIndexForDisplay | region | pct_positive | test_by_million | gdp_per_capita | health_expenditure_per_capita | percent_population_65_above | population_density | percent_urban_population |\n",
       "|---|---|---|---|---|---|---|---|---|---|---|---|---|---|---|---|---|---|---|---|---|\n",
       "| 2020-01-22  | Afghanistan | 0           | 0           | 0           | AFG         | 0           | 1           | 0           | NA          | ...         | 0           | 0           | South Asia  | 5.6775      | 445.5       | 520.8966    | 67.12265    | 2.584927    | 56.93776    | 25.495      |\n",
       "| 2020-01-23  | Afghanistan | 0           | 0           | 0           | AFG         | 0           | 1           | 0           | NA          | ...         | 0           | 0           | South Asia  | 5.6775      | 445.5       | 520.8966    | 67.12265    | 2.584927    | 56.93776    | 25.495      |\n",
       "| 2020-01-24  | Afghanistan | 0           | 0           | 0           | AFG         | 0           | 1           | 0           | NA          | ...         | 0           | 0           | South Asia  | 5.6775      | 445.5       | 520.8966    | 67.12265    | 2.584927    | 56.93776    | 25.495      |\n",
       "| 2020-01-25  | Afghanistan | 0           | 0           | 0           | AFG         | 0           | 1           | 0           | NA          | ...         | 0           | 0           | South Asia  | 5.6775      | 445.5       | 520.8966    | 67.12265    | 2.584927    | 56.93776    | 25.495      |\n",
       "| 2020-01-26  | Afghanistan | 0           | 0           | 0           | AFG         | 0           | 1           | 0           | NA          | ...         | 0           | 0           | South Asia  | 5.6775      | 445.5       | 520.8966    | 67.12265    | 2.584927    | 56.93776    | 25.495      |\n",
       "| 2020-01-27  | Afghanistan | 0           | 0           | 0           | AFG         | 0           | 1           | 0           | NA          | ...         | 0           | 0           | South Asia  | 5.6775      | 445.5       | 520.8966    | 67.12265    | 2.584927    | 56.93776    | 25.495      |\n",
       "\n"
      ],
      "text/plain": [
       "  date       country     confirmed recovered deaths country_code\n",
       "1 2020-01-22 Afghanistan 0         0         0      AFG         \n",
       "2 2020-01-23 Afghanistan 0         0         0      AFG         \n",
       "3 2020-01-24 Afghanistan 0         0         0      AFG         \n",
       "4 2020-01-25 Afghanistan 0         0         0      AFG         \n",
       "5 2020-01-26 Afghanistan 0         0         0      AFG         \n",
       "6 2020-01-27 Afghanistan 0         0         0      AFG         \n",
       "  S1_School closing S1_IsGeneral S2_Workplace closing S2_IsGeneral ...\n",
       "1 0                 1            0                    NA           ...\n",
       "2 0                 1            0                    NA           ...\n",
       "3 0                 1            0                    NA           ...\n",
       "4 0                 1            0                    NA           ...\n",
       "5 0                 1            0                    NA           ...\n",
       "6 0                 1            0                    NA           ...\n",
       "  StringencyIndex StringencyIndexForDisplay region     pct_positive\n",
       "1 0               0                         South Asia 5.6775      \n",
       "2 0               0                         South Asia 5.6775      \n",
       "3 0               0                         South Asia 5.6775      \n",
       "4 0               0                         South Asia 5.6775      \n",
       "5 0               0                         South Asia 5.6775      \n",
       "6 0               0                         South Asia 5.6775      \n",
       "  test_by_million gdp_per_capita health_expenditure_per_capita\n",
       "1 445.5           520.8966       67.12265                     \n",
       "2 445.5           520.8966       67.12265                     \n",
       "3 445.5           520.8966       67.12265                     \n",
       "4 445.5           520.8966       67.12265                     \n",
       "5 445.5           520.8966       67.12265                     \n",
       "6 445.5           520.8966       67.12265                     \n",
       "  percent_population_65_above population_density percent_urban_population\n",
       "1 2.584927                    56.93776           25.495                  \n",
       "2 2.584927                    56.93776           25.495                  \n",
       "3 2.584927                    56.93776           25.495                  \n",
       "4 2.584927                    56.93776           25.495                  \n",
       "5 2.584927                    56.93776           25.495                  \n",
       "6 2.584927                    56.93776           25.495                  "
      ]
     },
     "metadata": {},
     "output_type": "display_data"
    },
    {
     "data": {
      "text/plain": [
       "cols(\n",
       "  date = col_date(format = \"\"),\n",
       "  country = col_character(),\n",
       "  confirmed = col_double(),\n",
       "  recovered = col_double(),\n",
       "  deaths = col_double(),\n",
       "  country_code = col_character(),\n",
       "  `S1_School closing` = col_double(),\n",
       "  S1_IsGeneral = col_double(),\n",
       "  `S2_Workplace closing` = col_double(),\n",
       "  S2_IsGeneral = col_double(),\n",
       "  `S3_Cancel public events` = col_double(),\n",
       "  S3_IsGeneral = col_double(),\n",
       "  `S4_Close public transport` = col_double(),\n",
       "  S4_IsGeneral = col_double(),\n",
       "  `S5_Public information campaigns` = col_double(),\n",
       "  S5_IsGeneral = col_double(),\n",
       "  `S6_Restrictions on internal movement` = col_double(),\n",
       "  S6_IsGeneral = col_double(),\n",
       "  `S7_International travel controls` = col_double(),\n",
       "  `S8_Fiscal measures` = col_double(),\n",
       "  `S9_Monetary measures` = col_double(),\n",
       "  `S10_Emergency investment in health care` = col_double(),\n",
       "  `S11_Investment in Vaccines` = col_double(),\n",
       "  `S12_Testing framework` = col_double(),\n",
       "  `S13_Contact tracing` = col_double(),\n",
       "  StringencyIndex = col_double(),\n",
       "  StringencyIndexForDisplay = col_double(),\n",
       "  region = col_character(),\n",
       "  pct_positive = col_double(),\n",
       "  test_by_million = col_double(),\n",
       "  gdp_per_capita = col_double(),\n",
       "  health_expenditure_per_capita = col_double(),\n",
       "  percent_population_65_above = col_double(),\n",
       "  population_density = col_double(),\n",
       "  percent_urban_population = col_double()\n",
       ")"
      ]
     },
     "metadata": {},
     "output_type": "display_data"
    }
   ],
   "source": [
    "data <- read_csv(\"../Datasets/features_format_final_clean.csv\")\n",
    "head(data)\n",
    "\n",
    "spec(data)"
   ]
  },
  {
   "cell_type": "code",
   "execution_count": 63,
   "metadata": {},
   "outputs": [
    {
     "data": {
      "text/html": [
       "<table>\n",
       "<thead><tr><th scope=col>date</th><th scope=col>confirmed</th><th scope=col>recovered</th><th scope=col>deaths</th><th scope=col>country_code</th><th scope=col>StringencyIndex</th><th scope=col>StringencyIndexForDisplay</th><th scope=col>region</th><th scope=col>pct_positive</th><th scope=col>test_by_million</th><th scope=col>gdp_per_capita</th><th scope=col>health_expenditure_per_capita</th><th scope=col>percent_population_65_above</th><th scope=col>population_density</th><th scope=col>percent_urban_population</th></tr></thead>\n",
       "<tbody>\n",
       "\t<tr><td>2020-01-22</td><td>0         </td><td>0         </td><td>0         </td><td>AFG       </td><td>0         </td><td>0         </td><td>South Asia</td><td>5.6775    </td><td>445.5     </td><td>520.8966  </td><td>67.12265  </td><td>2.584927  </td><td>56.93776  </td><td>25.495    </td></tr>\n",
       "\t<tr><td>2020-01-23</td><td>0         </td><td>0         </td><td>0         </td><td>AFG       </td><td>0         </td><td>0         </td><td>South Asia</td><td>5.6775    </td><td>445.5     </td><td>520.8966  </td><td>67.12265  </td><td>2.584927  </td><td>56.93776  </td><td>25.495    </td></tr>\n",
       "\t<tr><td>2020-01-24</td><td>0         </td><td>0         </td><td>0         </td><td>AFG       </td><td>0         </td><td>0         </td><td>South Asia</td><td>5.6775    </td><td>445.5     </td><td>520.8966  </td><td>67.12265  </td><td>2.584927  </td><td>56.93776  </td><td>25.495    </td></tr>\n",
       "\t<tr><td>2020-01-25</td><td>0         </td><td>0         </td><td>0         </td><td>AFG       </td><td>0         </td><td>0         </td><td>South Asia</td><td>5.6775    </td><td>445.5     </td><td>520.8966  </td><td>67.12265  </td><td>2.584927  </td><td>56.93776  </td><td>25.495    </td></tr>\n",
       "\t<tr><td>2020-01-26</td><td>0         </td><td>0         </td><td>0         </td><td>AFG       </td><td>0         </td><td>0         </td><td>South Asia</td><td>5.6775    </td><td>445.5     </td><td>520.8966  </td><td>67.12265  </td><td>2.584927  </td><td>56.93776  </td><td>25.495    </td></tr>\n",
       "\t<tr><td>2020-01-27</td><td>0         </td><td>0         </td><td>0         </td><td>AFG       </td><td>0         </td><td>0         </td><td>South Asia</td><td>5.6775    </td><td>445.5     </td><td>520.8966  </td><td>67.12265  </td><td>2.584927  </td><td>56.93776  </td><td>25.495    </td></tr>\n",
       "</tbody>\n",
       "</table>\n"
      ],
      "text/latex": [
       "\\begin{tabular}{r|lllllllllllllll}\n",
       " date & confirmed & recovered & deaths & country\\_code & StringencyIndex & StringencyIndexForDisplay & region & pct\\_positive & test\\_by\\_million & gdp\\_per\\_capita & health\\_expenditure\\_per\\_capita & percent\\_population\\_65\\_above & population\\_density & percent\\_urban\\_population\\\\\n",
       "\\hline\n",
       "\t 2020-01-22 & 0          & 0          & 0          & AFG        & 0          & 0          & South Asia & 5.6775     & 445.5      & 520.8966   & 67.12265   & 2.584927   & 56.93776   & 25.495    \\\\\n",
       "\t 2020-01-23 & 0          & 0          & 0          & AFG        & 0          & 0          & South Asia & 5.6775     & 445.5      & 520.8966   & 67.12265   & 2.584927   & 56.93776   & 25.495    \\\\\n",
       "\t 2020-01-24 & 0          & 0          & 0          & AFG        & 0          & 0          & South Asia & 5.6775     & 445.5      & 520.8966   & 67.12265   & 2.584927   & 56.93776   & 25.495    \\\\\n",
       "\t 2020-01-25 & 0          & 0          & 0          & AFG        & 0          & 0          & South Asia & 5.6775     & 445.5      & 520.8966   & 67.12265   & 2.584927   & 56.93776   & 25.495    \\\\\n",
       "\t 2020-01-26 & 0          & 0          & 0          & AFG        & 0          & 0          & South Asia & 5.6775     & 445.5      & 520.8966   & 67.12265   & 2.584927   & 56.93776   & 25.495    \\\\\n",
       "\t 2020-01-27 & 0          & 0          & 0          & AFG        & 0          & 0          & South Asia & 5.6775     & 445.5      & 520.8966   & 67.12265   & 2.584927   & 56.93776   & 25.495    \\\\\n",
       "\\end{tabular}\n"
      ],
      "text/markdown": [
       "\n",
       "| date | confirmed | recovered | deaths | country_code | StringencyIndex | StringencyIndexForDisplay | region | pct_positive | test_by_million | gdp_per_capita | health_expenditure_per_capita | percent_population_65_above | population_density | percent_urban_population |\n",
       "|---|---|---|---|---|---|---|---|---|---|---|---|---|---|---|\n",
       "| 2020-01-22 | 0          | 0          | 0          | AFG        | 0          | 0          | South Asia | 5.6775     | 445.5      | 520.8966   | 67.12265   | 2.584927   | 56.93776   | 25.495     |\n",
       "| 2020-01-23 | 0          | 0          | 0          | AFG        | 0          | 0          | South Asia | 5.6775     | 445.5      | 520.8966   | 67.12265   | 2.584927   | 56.93776   | 25.495     |\n",
       "| 2020-01-24 | 0          | 0          | 0          | AFG        | 0          | 0          | South Asia | 5.6775     | 445.5      | 520.8966   | 67.12265   | 2.584927   | 56.93776   | 25.495     |\n",
       "| 2020-01-25 | 0          | 0          | 0          | AFG        | 0          | 0          | South Asia | 5.6775     | 445.5      | 520.8966   | 67.12265   | 2.584927   | 56.93776   | 25.495     |\n",
       "| 2020-01-26 | 0          | 0          | 0          | AFG        | 0          | 0          | South Asia | 5.6775     | 445.5      | 520.8966   | 67.12265   | 2.584927   | 56.93776   | 25.495     |\n",
       "| 2020-01-27 | 0          | 0          | 0          | AFG        | 0          | 0          | South Asia | 5.6775     | 445.5      | 520.8966   | 67.12265   | 2.584927   | 56.93776   | 25.495     |\n",
       "\n"
      ],
      "text/plain": [
       "  date       confirmed recovered deaths country_code StringencyIndex\n",
       "1 2020-01-22 0         0         0      AFG          0              \n",
       "2 2020-01-23 0         0         0      AFG          0              \n",
       "3 2020-01-24 0         0         0      AFG          0              \n",
       "4 2020-01-25 0         0         0      AFG          0              \n",
       "5 2020-01-26 0         0         0      AFG          0              \n",
       "6 2020-01-27 0         0         0      AFG          0              \n",
       "  StringencyIndexForDisplay region     pct_positive test_by_million\n",
       "1 0                         South Asia 5.6775       445.5          \n",
       "2 0                         South Asia 5.6775       445.5          \n",
       "3 0                         South Asia 5.6775       445.5          \n",
       "4 0                         South Asia 5.6775       445.5          \n",
       "5 0                         South Asia 5.6775       445.5          \n",
       "6 0                         South Asia 5.6775       445.5          \n",
       "  gdp_per_capita health_expenditure_per_capita percent_population_65_above\n",
       "1 520.8966       67.12265                      2.584927                   \n",
       "2 520.8966       67.12265                      2.584927                   \n",
       "3 520.8966       67.12265                      2.584927                   \n",
       "4 520.8966       67.12265                      2.584927                   \n",
       "5 520.8966       67.12265                      2.584927                   \n",
       "6 520.8966       67.12265                      2.584927                   \n",
       "  population_density percent_urban_population\n",
       "1 56.93776           25.495                  \n",
       "2 56.93776           25.495                  \n",
       "3 56.93776           25.495                  \n",
       "4 56.93776           25.495                  \n",
       "5 56.93776           25.495                  \n",
       "6 56.93776           25.495                  "
      ]
     },
     "metadata": {},
     "output_type": "display_data"
    }
   ],
   "source": [
    "useful <- data %>% select(-c(2, 7:25))\n",
    "head(useful)"
   ]
  },
  {
   "cell_type": "code",
   "execution_count": 64,
   "metadata": {},
   "outputs": [
    {
     "data": {
      "text/html": [
       "<table>\n",
       "<thead><tr><th scope=col>date</th><th scope=col>confirmed</th><th scope=col>recovered</th><th scope=col>deaths</th><th scope=col>country_code</th><th scope=col>StringencyIndex</th><th scope=col>StringencyIndexForDisplay</th><th scope=col>region</th><th scope=col>pct_positive</th><th scope=col>test_by_million</th><th scope=col>gdp_per_capita</th><th scope=col>health_expenditure_per_capita</th><th scope=col>percent_population_65_above</th><th scope=col>population_density</th><th scope=col>percent_urban_population</th><th scope=col>cum_cases</th><th scope=col>cum_recovered</th><th scope=col>cum_deaths</th><th scope=col>since_first</th></tr></thead>\n",
       "<tbody>\n",
       "\t<tr><td>2020-02-24</td><td>1         </td><td>0         </td><td>0         </td><td>AFG       </td><td>0         </td><td>0         </td><td>South Asia</td><td>5.6775    </td><td>445.5     </td><td>520.8966  </td><td>67.12265  </td><td>2.584927  </td><td>56.93776  </td><td>25.495    </td><td>1         </td><td>0         </td><td>0         </td><td>0         </td></tr>\n",
       "\t<tr><td>2020-02-25</td><td>0         </td><td>0         </td><td>0         </td><td>AFG       </td><td>0         </td><td>0         </td><td>South Asia</td><td>5.6775    </td><td>445.5     </td><td>520.8966  </td><td>67.12265  </td><td>2.584927  </td><td>56.93776  </td><td>25.495    </td><td>1         </td><td>0         </td><td>0         </td><td>1         </td></tr>\n",
       "\t<tr><td>2020-02-26</td><td>0         </td><td>0         </td><td>0         </td><td>AFG       </td><td>0         </td><td>0         </td><td>South Asia</td><td>5.6775    </td><td>445.5     </td><td>520.8966  </td><td>67.12265  </td><td>2.584927  </td><td>56.93776  </td><td>25.495    </td><td>1         </td><td>0         </td><td>0         </td><td>2         </td></tr>\n",
       "\t<tr><td>2020-02-27</td><td>0         </td><td>0         </td><td>0         </td><td>AFG       </td><td>0         </td><td>0         </td><td>South Asia</td><td>5.6775    </td><td>445.5     </td><td>520.8966  </td><td>67.12265  </td><td>2.584927  </td><td>56.93776  </td><td>25.495    </td><td>1         </td><td>0         </td><td>0         </td><td>3         </td></tr>\n",
       "\t<tr><td>2020-02-28</td><td>0         </td><td>0         </td><td>0         </td><td>AFG       </td><td>0         </td><td>0         </td><td>South Asia</td><td>5.6775    </td><td>445.5     </td><td>520.8966  </td><td>67.12265  </td><td>2.584927  </td><td>56.93776  </td><td>25.495    </td><td>1         </td><td>0         </td><td>0         </td><td>4         </td></tr>\n",
       "\t<tr><td>2020-02-29</td><td>0         </td><td>0         </td><td>0         </td><td>AFG       </td><td>0         </td><td>0         </td><td>South Asia</td><td>5.6775    </td><td>445.5     </td><td>520.8966  </td><td>67.12265  </td><td>2.584927  </td><td>56.93776  </td><td>25.495    </td><td>1         </td><td>0         </td><td>0         </td><td>5         </td></tr>\n",
       "</tbody>\n",
       "</table>\n"
      ],
      "text/latex": [
       "\\begin{tabular}{r|lllllllllllllllllll}\n",
       " date & confirmed & recovered & deaths & country\\_code & StringencyIndex & StringencyIndexForDisplay & region & pct\\_positive & test\\_by\\_million & gdp\\_per\\_capita & health\\_expenditure\\_per\\_capita & percent\\_population\\_65\\_above & population\\_density & percent\\_urban\\_population & cum\\_cases & cum\\_recovered & cum\\_deaths & since\\_first\\\\\n",
       "\\hline\n",
       "\t 2020-02-24 & 1          & 0          & 0          & AFG        & 0          & 0          & South Asia & 5.6775     & 445.5      & 520.8966   & 67.12265   & 2.584927   & 56.93776   & 25.495     & 1          & 0          & 0          & 0         \\\\\n",
       "\t 2020-02-25 & 0          & 0          & 0          & AFG        & 0          & 0          & South Asia & 5.6775     & 445.5      & 520.8966   & 67.12265   & 2.584927   & 56.93776   & 25.495     & 1          & 0          & 0          & 1         \\\\\n",
       "\t 2020-02-26 & 0          & 0          & 0          & AFG        & 0          & 0          & South Asia & 5.6775     & 445.5      & 520.8966   & 67.12265   & 2.584927   & 56.93776   & 25.495     & 1          & 0          & 0          & 2         \\\\\n",
       "\t 2020-02-27 & 0          & 0          & 0          & AFG        & 0          & 0          & South Asia & 5.6775     & 445.5      & 520.8966   & 67.12265   & 2.584927   & 56.93776   & 25.495     & 1          & 0          & 0          & 3         \\\\\n",
       "\t 2020-02-28 & 0          & 0          & 0          & AFG        & 0          & 0          & South Asia & 5.6775     & 445.5      & 520.8966   & 67.12265   & 2.584927   & 56.93776   & 25.495     & 1          & 0          & 0          & 4         \\\\\n",
       "\t 2020-02-29 & 0          & 0          & 0          & AFG        & 0          & 0          & South Asia & 5.6775     & 445.5      & 520.8966   & 67.12265   & 2.584927   & 56.93776   & 25.495     & 1          & 0          & 0          & 5         \\\\\n",
       "\\end{tabular}\n"
      ],
      "text/markdown": [
       "\n",
       "| date | confirmed | recovered | deaths | country_code | StringencyIndex | StringencyIndexForDisplay | region | pct_positive | test_by_million | gdp_per_capita | health_expenditure_per_capita | percent_population_65_above | population_density | percent_urban_population | cum_cases | cum_recovered | cum_deaths | since_first |\n",
       "|---|---|---|---|---|---|---|---|---|---|---|---|---|---|---|---|---|---|---|\n",
       "| 2020-02-24 | 1          | 0          | 0          | AFG        | 0          | 0          | South Asia | 5.6775     | 445.5      | 520.8966   | 67.12265   | 2.584927   | 56.93776   | 25.495     | 1          | 0          | 0          | 0          |\n",
       "| 2020-02-25 | 0          | 0          | 0          | AFG        | 0          | 0          | South Asia | 5.6775     | 445.5      | 520.8966   | 67.12265   | 2.584927   | 56.93776   | 25.495     | 1          | 0          | 0          | 1          |\n",
       "| 2020-02-26 | 0          | 0          | 0          | AFG        | 0          | 0          | South Asia | 5.6775     | 445.5      | 520.8966   | 67.12265   | 2.584927   | 56.93776   | 25.495     | 1          | 0          | 0          | 2          |\n",
       "| 2020-02-27 | 0          | 0          | 0          | AFG        | 0          | 0          | South Asia | 5.6775     | 445.5      | 520.8966   | 67.12265   | 2.584927   | 56.93776   | 25.495     | 1          | 0          | 0          | 3          |\n",
       "| 2020-02-28 | 0          | 0          | 0          | AFG        | 0          | 0          | South Asia | 5.6775     | 445.5      | 520.8966   | 67.12265   | 2.584927   | 56.93776   | 25.495     | 1          | 0          | 0          | 4          |\n",
       "| 2020-02-29 | 0          | 0          | 0          | AFG        | 0          | 0          | South Asia | 5.6775     | 445.5      | 520.8966   | 67.12265   | 2.584927   | 56.93776   | 25.495     | 1          | 0          | 0          | 5          |\n",
       "\n"
      ],
      "text/plain": [
       "  date       confirmed recovered deaths country_code StringencyIndex\n",
       "1 2020-02-24 1         0         0      AFG          0              \n",
       "2 2020-02-25 0         0         0      AFG          0              \n",
       "3 2020-02-26 0         0         0      AFG          0              \n",
       "4 2020-02-27 0         0         0      AFG          0              \n",
       "5 2020-02-28 0         0         0      AFG          0              \n",
       "6 2020-02-29 0         0         0      AFG          0              \n",
       "  StringencyIndexForDisplay region     pct_positive test_by_million\n",
       "1 0                         South Asia 5.6775       445.5          \n",
       "2 0                         South Asia 5.6775       445.5          \n",
       "3 0                         South Asia 5.6775       445.5          \n",
       "4 0                         South Asia 5.6775       445.5          \n",
       "5 0                         South Asia 5.6775       445.5          \n",
       "6 0                         South Asia 5.6775       445.5          \n",
       "  gdp_per_capita health_expenditure_per_capita percent_population_65_above\n",
       "1 520.8966       67.12265                      2.584927                   \n",
       "2 520.8966       67.12265                      2.584927                   \n",
       "3 520.8966       67.12265                      2.584927                   \n",
       "4 520.8966       67.12265                      2.584927                   \n",
       "5 520.8966       67.12265                      2.584927                   \n",
       "6 520.8966       67.12265                      2.584927                   \n",
       "  population_density percent_urban_population cum_cases cum_recovered\n",
       "1 56.93776           25.495                   1         0            \n",
       "2 56.93776           25.495                   1         0            \n",
       "3 56.93776           25.495                   1         0            \n",
       "4 56.93776           25.495                   1         0            \n",
       "5 56.93776           25.495                   1         0            \n",
       "6 56.93776           25.495                   1         0            \n",
       "  cum_deaths since_first\n",
       "1 0          0          \n",
       "2 0          1          \n",
       "3 0          2          \n",
       "4 0          3          \n",
       "5 0          4          \n",
       "6 0          5          "
      ]
     },
     "metadata": {},
     "output_type": "display_data"
    }
   ],
   "source": [
    "modified <- useful %>% group_by(country_code) %>% mutate(cum_cases=cumsum(confirmed), cum_recovered=cumsum(recovered), cum_deaths=cumsum(deaths)) %>% \n",
    "    filter(cum_cases > 0) %>% mutate(since_first=row_number()-1) %>% ungroup()\n",
    "\n",
    "head(modified)"
   ]
  },
  {
   "cell_type": "code",
   "execution_count": 65,
   "metadata": {},
   "outputs": [
    {
     "data": {
      "text/html": [
       "<table>\n",
       "<thead><tr><th scope=col>date</th><th scope=col>confirmed</th><th scope=col>recovered</th><th scope=col>deaths</th><th scope=col>country_code</th><th scope=col>StringencyIndex</th><th scope=col>StringencyIndexForDisplay</th><th scope=col>region</th><th scope=col>pct_positive</th><th scope=col>test_by_million</th><th scope=col>gdp_per_capita</th><th scope=col>health_expenditure_per_capita</th><th scope=col>percent_population_65_above</th><th scope=col>population_density</th><th scope=col>percent_urban_population</th><th scope=col>cum_cases</th><th scope=col>cum_recovered</th><th scope=col>cum_deaths</th><th scope=col>since_first</th></tr></thead>\n",
       "<tbody>\n",
       "\t<tr><td>2020-02-24</td><td>1         </td><td>0         </td><td>0         </td><td>AFG       </td><td>0         </td><td>0         </td><td>South Asia</td><td>5.6775    </td><td>445.5     </td><td>520.8966  </td><td>67.12265  </td><td>2.584927  </td><td>56.93776  </td><td>25.495    </td><td>1         </td><td>0         </td><td>0         </td><td>0         </td></tr>\n",
       "\t<tr><td>2020-02-25</td><td>0         </td><td>0         </td><td>0         </td><td>AFG       </td><td>0         </td><td>0         </td><td>South Asia</td><td>5.6775    </td><td>445.5     </td><td>520.8966  </td><td>67.12265  </td><td>2.584927  </td><td>56.93776  </td><td>25.495    </td><td>1         </td><td>0         </td><td>0         </td><td>1         </td></tr>\n",
       "\t<tr><td>2020-02-26</td><td>0         </td><td>0         </td><td>0         </td><td>AFG       </td><td>0         </td><td>0         </td><td>South Asia</td><td>5.6775    </td><td>445.5     </td><td>520.8966  </td><td>67.12265  </td><td>2.584927  </td><td>56.93776  </td><td>25.495    </td><td>1         </td><td>0         </td><td>0         </td><td>2         </td></tr>\n",
       "\t<tr><td>2020-02-27</td><td>0         </td><td>0         </td><td>0         </td><td>AFG       </td><td>0         </td><td>0         </td><td>South Asia</td><td>5.6775    </td><td>445.5     </td><td>520.8966  </td><td>67.12265  </td><td>2.584927  </td><td>56.93776  </td><td>25.495    </td><td>1         </td><td>0         </td><td>0         </td><td>3         </td></tr>\n",
       "\t<tr><td>2020-02-28</td><td>0         </td><td>0         </td><td>0         </td><td>AFG       </td><td>0         </td><td>0         </td><td>South Asia</td><td>5.6775    </td><td>445.5     </td><td>520.8966  </td><td>67.12265  </td><td>2.584927  </td><td>56.93776  </td><td>25.495    </td><td>1         </td><td>0         </td><td>0         </td><td>4         </td></tr>\n",
       "\t<tr><td>2020-02-29</td><td>0         </td><td>0         </td><td>0         </td><td>AFG       </td><td>0         </td><td>0         </td><td>South Asia</td><td>5.6775    </td><td>445.5     </td><td>520.8966  </td><td>67.12265  </td><td>2.584927  </td><td>56.93776  </td><td>25.495    </td><td>1         </td><td>0         </td><td>0         </td><td>5         </td></tr>\n",
       "</tbody>\n",
       "</table>\n"
      ],
      "text/latex": [
       "\\begin{tabular}{r|lllllllllllllllllll}\n",
       " date & confirmed & recovered & deaths & country\\_code & StringencyIndex & StringencyIndexForDisplay & region & pct\\_positive & test\\_by\\_million & gdp\\_per\\_capita & health\\_expenditure\\_per\\_capita & percent\\_population\\_65\\_above & population\\_density & percent\\_urban\\_population & cum\\_cases & cum\\_recovered & cum\\_deaths & since\\_first\\\\\n",
       "\\hline\n",
       "\t 2020-02-24 & 1          & 0          & 0          & AFG        & 0          & 0          & South Asia & 5.6775     & 445.5      & 520.8966   & 67.12265   & 2.584927   & 56.93776   & 25.495     & 1          & 0          & 0          & 0         \\\\\n",
       "\t 2020-02-25 & 0          & 0          & 0          & AFG        & 0          & 0          & South Asia & 5.6775     & 445.5      & 520.8966   & 67.12265   & 2.584927   & 56.93776   & 25.495     & 1          & 0          & 0          & 1         \\\\\n",
       "\t 2020-02-26 & 0          & 0          & 0          & AFG        & 0          & 0          & South Asia & 5.6775     & 445.5      & 520.8966   & 67.12265   & 2.584927   & 56.93776   & 25.495     & 1          & 0          & 0          & 2         \\\\\n",
       "\t 2020-02-27 & 0          & 0          & 0          & AFG        & 0          & 0          & South Asia & 5.6775     & 445.5      & 520.8966   & 67.12265   & 2.584927   & 56.93776   & 25.495     & 1          & 0          & 0          & 3         \\\\\n",
       "\t 2020-02-28 & 0          & 0          & 0          & AFG        & 0          & 0          & South Asia & 5.6775     & 445.5      & 520.8966   & 67.12265   & 2.584927   & 56.93776   & 25.495     & 1          & 0          & 0          & 4         \\\\\n",
       "\t 2020-02-29 & 0          & 0          & 0          & AFG        & 0          & 0          & South Asia & 5.6775     & 445.5      & 520.8966   & 67.12265   & 2.584927   & 56.93776   & 25.495     & 1          & 0          & 0          & 5         \\\\\n",
       "\\end{tabular}\n"
      ],
      "text/markdown": [
       "\n",
       "| date | confirmed | recovered | deaths | country_code | StringencyIndex | StringencyIndexForDisplay | region | pct_positive | test_by_million | gdp_per_capita | health_expenditure_per_capita | percent_population_65_above | population_density | percent_urban_population | cum_cases | cum_recovered | cum_deaths | since_first |\n",
       "|---|---|---|---|---|---|---|---|---|---|---|---|---|---|---|---|---|---|---|\n",
       "| 2020-02-24 | 1          | 0          | 0          | AFG        | 0          | 0          | South Asia | 5.6775     | 445.5      | 520.8966   | 67.12265   | 2.584927   | 56.93776   | 25.495     | 1          | 0          | 0          | 0          |\n",
       "| 2020-02-25 | 0          | 0          | 0          | AFG        | 0          | 0          | South Asia | 5.6775     | 445.5      | 520.8966   | 67.12265   | 2.584927   | 56.93776   | 25.495     | 1          | 0          | 0          | 1          |\n",
       "| 2020-02-26 | 0          | 0          | 0          | AFG        | 0          | 0          | South Asia | 5.6775     | 445.5      | 520.8966   | 67.12265   | 2.584927   | 56.93776   | 25.495     | 1          | 0          | 0          | 2          |\n",
       "| 2020-02-27 | 0          | 0          | 0          | AFG        | 0          | 0          | South Asia | 5.6775     | 445.5      | 520.8966   | 67.12265   | 2.584927   | 56.93776   | 25.495     | 1          | 0          | 0          | 3          |\n",
       "| 2020-02-28 | 0          | 0          | 0          | AFG        | 0          | 0          | South Asia | 5.6775     | 445.5      | 520.8966   | 67.12265   | 2.584927   | 56.93776   | 25.495     | 1          | 0          | 0          | 4          |\n",
       "| 2020-02-29 | 0          | 0          | 0          | AFG        | 0          | 0          | South Asia | 5.6775     | 445.5      | 520.8966   | 67.12265   | 2.584927   | 56.93776   | 25.495     | 1          | 0          | 0          | 5          |\n",
       "\n"
      ],
      "text/plain": [
       "  date       confirmed recovered deaths country_code StringencyIndex\n",
       "1 2020-02-24 1         0         0      AFG          0              \n",
       "2 2020-02-25 0         0         0      AFG          0              \n",
       "3 2020-02-26 0         0         0      AFG          0              \n",
       "4 2020-02-27 0         0         0      AFG          0              \n",
       "5 2020-02-28 0         0         0      AFG          0              \n",
       "6 2020-02-29 0         0         0      AFG          0              \n",
       "  StringencyIndexForDisplay region     pct_positive test_by_million\n",
       "1 0                         South Asia 5.6775       445.5          \n",
       "2 0                         South Asia 5.6775       445.5          \n",
       "3 0                         South Asia 5.6775       445.5          \n",
       "4 0                         South Asia 5.6775       445.5          \n",
       "5 0                         South Asia 5.6775       445.5          \n",
       "6 0                         South Asia 5.6775       445.5          \n",
       "  gdp_per_capita health_expenditure_per_capita percent_population_65_above\n",
       "1 520.8966       67.12265                      2.584927                   \n",
       "2 520.8966       67.12265                      2.584927                   \n",
       "3 520.8966       67.12265                      2.584927                   \n",
       "4 520.8966       67.12265                      2.584927                   \n",
       "5 520.8966       67.12265                      2.584927                   \n",
       "6 520.8966       67.12265                      2.584927                   \n",
       "  population_density percent_urban_population cum_cases cum_recovered\n",
       "1 56.93776           25.495                   1         0            \n",
       "2 56.93776           25.495                   1         0            \n",
       "3 56.93776           25.495                   1         0            \n",
       "4 56.93776           25.495                   1         0            \n",
       "5 56.93776           25.495                   1         0            \n",
       "6 56.93776           25.495                   1         0            \n",
       "  cum_deaths since_first\n",
       "1 0          0          \n",
       "2 0          1          \n",
       "3 0          2          \n",
       "4 0          3          \n",
       "5 0          4          \n",
       "6 0          5          "
      ]
     },
     "metadata": {},
     "output_type": "display_data"
    }
   ],
   "source": [
    "modified_str <- modified %>% group_by(date, region) %>% \n",
    "    mutate(StringencyIndex=ifelse(is.na(StringencyIndex), mean(StringencyIndex, na.rm=TRUE), StringencyIndex)) %>%\n",
    "    mutate(StringencyIndexForDisplay=ifelse(is.na(StringencyIndexForDisplay), mean(StringencyIndexForDisplay, na.rm=TRUE), StringencyIndexForDisplay)) %>% ungroup()\n",
    "\n",
    "modified_str <- modified_str %>% mutate(StringencyIndex=replace_na(StringencyIndex, 0), StringencyIndexForDisplay=replace_na(StringencyIndexForDisplay, 0))\n",
    "head(modified_str)"
   ]
  },
  {
   "cell_type": "code",
   "execution_count": 66,
   "metadata": {},
   "outputs": [
    {
     "data": {
      "text/html": [
       "FALSE"
      ],
      "text/latex": [
       "FALSE"
      ],
      "text/markdown": [
       "FALSE"
      ],
      "text/plain": [
       "[1] FALSE"
      ]
     },
     "metadata": {},
     "output_type": "display_data"
    },
    {
     "data": {
      "text/html": [
       "FALSE"
      ],
      "text/latex": [
       "FALSE"
      ],
      "text/markdown": [
       "FALSE"
      ],
      "text/plain": [
       "[1] FALSE"
      ]
     },
     "metadata": {},
     "output_type": "display_data"
    }
   ],
   "source": [
    "any(is.na(modified_str$StringencyIndex))\n",
    "any(is.na(modified_str$StringencyIndexForDisplay))"
   ]
  },
  {
   "cell_type": "code",
   "execution_count": 67,
   "metadata": {},
   "outputs": [
    {
     "data": {
      "text/html": [
       "<table>\n",
       "<thead><tr><th scope=col>date</th><th scope=col>confirmed</th><th scope=col>recovered</th><th scope=col>deaths</th><th scope=col>country_code</th><th scope=col>StringencyIndex</th><th scope=col>StringencyIndexForDisplay</th><th scope=col>cum_cases</th><th scope=col>cum_recovered</th><th scope=col>cum_deaths</th><th scope=col>since_first</th></tr></thead>\n",
       "<tbody>\n",
       "\t<tr><td>2020-02-24</td><td>1         </td><td>0         </td><td>0         </td><td>AFG       </td><td>0         </td><td>0         </td><td>1         </td><td>0         </td><td>0         </td><td>0         </td></tr>\n",
       "\t<tr><td>2020-02-25</td><td>0         </td><td>0         </td><td>0         </td><td>AFG       </td><td>0         </td><td>0         </td><td>1         </td><td>0         </td><td>0         </td><td>1         </td></tr>\n",
       "\t<tr><td>2020-02-26</td><td>0         </td><td>0         </td><td>0         </td><td>AFG       </td><td>0         </td><td>0         </td><td>1         </td><td>0         </td><td>0         </td><td>2         </td></tr>\n",
       "\t<tr><td>2020-02-27</td><td>0         </td><td>0         </td><td>0         </td><td>AFG       </td><td>0         </td><td>0         </td><td>1         </td><td>0         </td><td>0         </td><td>3         </td></tr>\n",
       "\t<tr><td>2020-02-28</td><td>0         </td><td>0         </td><td>0         </td><td>AFG       </td><td>0         </td><td>0         </td><td>1         </td><td>0         </td><td>0         </td><td>4         </td></tr>\n",
       "\t<tr><td>2020-02-29</td><td>0         </td><td>0         </td><td>0         </td><td>AFG       </td><td>0         </td><td>0         </td><td>1         </td><td>0         </td><td>0         </td><td>5         </td></tr>\n",
       "</tbody>\n",
       "</table>\n"
      ],
      "text/latex": [
       "\\begin{tabular}{r|lllllllllll}\n",
       " date & confirmed & recovered & deaths & country\\_code & StringencyIndex & StringencyIndexForDisplay & cum\\_cases & cum\\_recovered & cum\\_deaths & since\\_first\\\\\n",
       "\\hline\n",
       "\t 2020-02-24 & 1          & 0          & 0          & AFG        & 0          & 0          & 1          & 0          & 0          & 0         \\\\\n",
       "\t 2020-02-25 & 0          & 0          & 0          & AFG        & 0          & 0          & 1          & 0          & 0          & 1         \\\\\n",
       "\t 2020-02-26 & 0          & 0          & 0          & AFG        & 0          & 0          & 1          & 0          & 0          & 2         \\\\\n",
       "\t 2020-02-27 & 0          & 0          & 0          & AFG        & 0          & 0          & 1          & 0          & 0          & 3         \\\\\n",
       "\t 2020-02-28 & 0          & 0          & 0          & AFG        & 0          & 0          & 1          & 0          & 0          & 4         \\\\\n",
       "\t 2020-02-29 & 0          & 0          & 0          & AFG        & 0          & 0          & 1          & 0          & 0          & 5         \\\\\n",
       "\\end{tabular}\n"
      ],
      "text/markdown": [
       "\n",
       "| date | confirmed | recovered | deaths | country_code | StringencyIndex | StringencyIndexForDisplay | cum_cases | cum_recovered | cum_deaths | since_first |\n",
       "|---|---|---|---|---|---|---|---|---|---|---|\n",
       "| 2020-02-24 | 1          | 0          | 0          | AFG        | 0          | 0          | 1          | 0          | 0          | 0          |\n",
       "| 2020-02-25 | 0          | 0          | 0          | AFG        | 0          | 0          | 1          | 0          | 0          | 1          |\n",
       "| 2020-02-26 | 0          | 0          | 0          | AFG        | 0          | 0          | 1          | 0          | 0          | 2          |\n",
       "| 2020-02-27 | 0          | 0          | 0          | AFG        | 0          | 0          | 1          | 0          | 0          | 3          |\n",
       "| 2020-02-28 | 0          | 0          | 0          | AFG        | 0          | 0          | 1          | 0          | 0          | 4          |\n",
       "| 2020-02-29 | 0          | 0          | 0          | AFG        | 0          | 0          | 1          | 0          | 0          | 5          |\n",
       "\n"
      ],
      "text/plain": [
       "  date       confirmed recovered deaths country_code StringencyIndex\n",
       "1 2020-02-24 1         0         0      AFG          0              \n",
       "2 2020-02-25 0         0         0      AFG          0              \n",
       "3 2020-02-26 0         0         0      AFG          0              \n",
       "4 2020-02-27 0         0         0      AFG          0              \n",
       "5 2020-02-28 0         0         0      AFG          0              \n",
       "6 2020-02-29 0         0         0      AFG          0              \n",
       "  StringencyIndexForDisplay cum_cases cum_recovered cum_deaths since_first\n",
       "1 0                         1         0             0          0          \n",
       "2 0                         1         0             0          1          \n",
       "3 0                         1         0             0          2          \n",
       "4 0                         1         0             0          3          \n",
       "5 0                         1         0             0          4          \n",
       "6 0                         1         0             0          5          "
      ]
     },
     "metadata": {},
     "output_type": "display_data"
    }
   ],
   "source": [
    "time_variable <- modified_str %>% select(c(1, 2, 3, 4, 5, 6, 7, 16, 17, 18, 19))\n",
    "head(time_variable)"
   ]
  },
  {
   "cell_type": "code",
   "execution_count": 68,
   "metadata": {},
   "outputs": [
    {
     "data": {
      "text/html": [
       "<table>\n",
       "<thead><tr><th scope=col>country_code</th><th scope=col>pct_positive</th><th scope=col>test_by_million</th><th scope=col>gdp_per_capita</th><th scope=col>health_expenditure_per_capita</th><th scope=col>percent_population_65_above</th><th scope=col>population_density</th><th scope=col>percent_urban_population</th></tr></thead>\n",
       "<tbody>\n",
       "\t<tr><td>AFG       </td><td> 5.677500 </td><td>  445.500 </td><td>  520.8966</td><td>  67.12265</td><td> 2.584927 </td><td> 56.93776 </td><td>25.49500  </td></tr>\n",
       "\t<tr><td>ALB       </td><td>10.300000 </td><td> 1855.000 </td><td> 5268.8485</td><td>2924.55440</td><td>13.744736 </td><td>104.61226 </td><td>60.31900  </td></tr>\n",
       "\t<tr><td>DZA       </td><td> 7.433333 </td><td>18224.111 </td><td> 4114.7151</td><td> 258.49429</td><td> 6.362497 </td><td> 17.73008 </td><td>72.62900  </td></tr>\n",
       "\t<tr><td>AND       </td><td> 9.676923 </td><td>15350.026 </td><td>42029.7627</td><td>4040.78662</td><td>18.201073 </td><td>163.84255 </td><td>88.06200  </td></tr>\n",
       "\t<tr><td>AGO       </td><td> 4.900000 </td><td>  727.500 </td><td> 3432.3857</td><td> 114.45964</td><td> 2.216374 </td><td> 24.71305 </td><td>65.51400  </td></tr>\n",
       "\t<tr><td>ATG       </td><td>12.106250 </td><td> 1585.812 </td><td>10309.2855</td><td> 623.48020</td><td> 8.885378 </td><td>133.04407 </td><td>66.57259  </td></tr>\n",
       "</tbody>\n",
       "</table>\n"
      ],
      "text/latex": [
       "\\begin{tabular}{r|llllllll}\n",
       " country\\_code & pct\\_positive & test\\_by\\_million & gdp\\_per\\_capita & health\\_expenditure\\_per\\_capita & percent\\_population\\_65\\_above & population\\_density & percent\\_urban\\_population\\\\\n",
       "\\hline\n",
       "\t AFG        &  5.677500  &   445.500  &   520.8966 &   67.12265 &  2.584927  &  56.93776  & 25.49500  \\\\\n",
       "\t ALB        & 10.300000  &  1855.000  &  5268.8485 & 2924.55440 & 13.744736  & 104.61226  & 60.31900  \\\\\n",
       "\t DZA        &  7.433333  & 18224.111  &  4114.7151 &  258.49429 &  6.362497  &  17.73008  & 72.62900  \\\\\n",
       "\t AND        &  9.676923  & 15350.026  & 42029.7627 & 4040.78662 & 18.201073  & 163.84255  & 88.06200  \\\\\n",
       "\t AGO        &  4.900000  &   727.500  &  3432.3857 &  114.45964 &  2.216374  &  24.71305  & 65.51400  \\\\\n",
       "\t ATG        & 12.106250  &  1585.812  & 10309.2855 &  623.48020 &  8.885378  & 133.04407  & 66.57259  \\\\\n",
       "\\end{tabular}\n"
      ],
      "text/markdown": [
       "\n",
       "| country_code | pct_positive | test_by_million | gdp_per_capita | health_expenditure_per_capita | percent_population_65_above | population_density | percent_urban_population |\n",
       "|---|---|---|---|---|---|---|---|\n",
       "| AFG        |  5.677500  |   445.500  |   520.8966 |   67.12265 |  2.584927  |  56.93776  | 25.49500   |\n",
       "| ALB        | 10.300000  |  1855.000  |  5268.8485 | 2924.55440 | 13.744736  | 104.61226  | 60.31900   |\n",
       "| DZA        |  7.433333  | 18224.111  |  4114.7151 |  258.49429 |  6.362497  |  17.73008  | 72.62900   |\n",
       "| AND        |  9.676923  | 15350.026  | 42029.7627 | 4040.78662 | 18.201073  | 163.84255  | 88.06200   |\n",
       "| AGO        |  4.900000  |   727.500  |  3432.3857 |  114.45964 |  2.216374  |  24.71305  | 65.51400   |\n",
       "| ATG        | 12.106250  |  1585.812  | 10309.2855 |  623.48020 |  8.885378  | 133.04407  | 66.57259   |\n",
       "\n"
      ],
      "text/plain": [
       "  country_code pct_positive test_by_million gdp_per_capita\n",
       "1 AFG           5.677500      445.500         520.8966    \n",
       "2 ALB          10.300000     1855.000        5268.8485    \n",
       "3 DZA           7.433333    18224.111        4114.7151    \n",
       "4 AND           9.676923    15350.026       42029.7627    \n",
       "5 AGO           4.900000      727.500        3432.3857    \n",
       "6 ATG          12.106250     1585.812       10309.2855    \n",
       "  health_expenditure_per_capita percent_population_65_above population_density\n",
       "1   67.12265                     2.584927                    56.93776         \n",
       "2 2924.55440                    13.744736                   104.61226         \n",
       "3  258.49429                     6.362497                    17.73008         \n",
       "4 4040.78662                    18.201073                   163.84255         \n",
       "5  114.45964                     2.216374                    24.71305         \n",
       "6  623.48020                     8.885378                   133.04407         \n",
       "  percent_urban_population\n",
       "1 25.49500                \n",
       "2 60.31900                \n",
       "3 72.62900                \n",
       "4 88.06200                \n",
       "5 65.51400                \n",
       "6 66.57259                "
      ]
     },
     "metadata": {},
     "output_type": "display_data"
    },
    {
     "data": {
      "text/html": [
       "<table>\n",
       "<thead><tr><th scope=col>n</th></tr></thead>\n",
       "<tbody>\n",
       "\t<tr><td>196</td></tr>\n",
       "</tbody>\n",
       "</table>\n"
      ],
      "text/latex": [
       "\\begin{tabular}{r|l}\n",
       " n\\\\\n",
       "\\hline\n",
       "\t 196\\\\\n",
       "\\end{tabular}\n"
      ],
      "text/markdown": [
       "\n",
       "| n |\n",
       "|---|\n",
       "| 196 |\n",
       "\n"
      ],
      "text/plain": [
       "  n  \n",
       "1 196"
      ]
     },
     "metadata": {},
     "output_type": "display_data"
    }
   ],
   "source": [
    "stationary <- modified_str %>% select(c(5, 9:15)) %>% distinct()\n",
    "head(stationary)\n",
    "\n",
    "count(stationary)"
   ]
  },
  {
   "cell_type": "code",
   "execution_count": 69,
   "metadata": {},
   "outputs": [],
   "source": [
    "write.csv(time_variable, file=\"../Datasets/time_variable.csv\", row.names=FALSE)\n",
    "write.csv(stationary, file=\"../Datasets/stationary.csv\", row.names=FALSE)"
   ]
  }
 ],
 "metadata": {
  "kernelspec": {
   "display_name": "R",
   "language": "R",
   "name": "ir"
  },
  "language_info": {
   "codemirror_mode": "r",
   "file_extension": ".r",
   "mimetype": "text/x-r-source",
   "name": "R",
   "pygments_lexer": "r",
   "version": "3.6.1"
  }
 },
 "nbformat": 4,
 "nbformat_minor": 4
}
