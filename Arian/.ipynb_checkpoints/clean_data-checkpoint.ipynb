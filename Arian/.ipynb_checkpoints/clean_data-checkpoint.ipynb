{
 "cells": [
  {
   "cell_type": "code",
   "execution_count": 169,
   "metadata": {},
   "outputs": [],
   "source": [
    "import pandas as pd"
   ]
  },
  {
   "cell_type": "code",
   "execution_count": 170,
   "metadata": {},
   "outputs": [],
   "source": [
    "fd = pd.read_csv(\"../Datasets/features_format_cgrt.csv\")\n",
    "# cleaned data\n",
    "cd = pd.read_csv(\"../Datasets/Wikipedia/cleaned_tests.csv\")"
   ]
  },
  {
   "cell_type": "code",
   "execution_count": 171,
   "metadata": {},
   "outputs": [
    {
     "data": {
      "text/html": [
       "<div>\n",
       "<style scoped>\n",
       "    .dataframe tbody tr th:only-of-type {\n",
       "        vertical-align: middle;\n",
       "    }\n",
       "\n",
       "    .dataframe tbody tr th {\n",
       "        vertical-align: top;\n",
       "    }\n",
       "\n",
       "    .dataframe thead th {\n",
       "        text-align: right;\n",
       "    }\n",
       "</style>\n",
       "<table border=\"1\" class=\"dataframe\">\n",
       "  <thead>\n",
       "    <tr style=\"text-align: right;\">\n",
       "      <th></th>\n",
       "      <th>Unnamed: 0</th>\n",
       "      <th>country</th>\n",
       "      <th>date</th>\n",
       "      <th>n_tests</th>\n",
       "      <th>n_positive</th>\n",
       "      <th>pct_positive</th>\n",
       "      <th>test_by_million</th>\n",
       "      <th>pos_by_million</th>\n",
       "    </tr>\n",
       "  </thead>\n",
       "  <tbody>\n",
       "    <tr>\n",
       "      <th>0</th>\n",
       "      <td>85</td>\n",
       "      <td>North Korea</td>\n",
       "      <td>2 Apr</td>\n",
       "      <td>709</td>\n",
       "      <td>0</td>\n",
       "      <td>0.00</td>\n",
       "      <td>28</td>\n",
       "      <td>0</td>\n",
       "    </tr>\n",
       "    <tr>\n",
       "      <th>1</th>\n",
       "      <td>65</td>\n",
       "      <td>Nepal</td>\n",
       "      <td>18 Apr</td>\n",
       "      <td>27467</td>\n",
       "      <td>30</td>\n",
       "      <td>0.11</td>\n",
       "      <td>978</td>\n",
       "      <td>1.1</td>\n",
       "    </tr>\n",
       "    <tr>\n",
       "      <th>2</th>\n",
       "      <td>60</td>\n",
       "      <td>Vietnam</td>\n",
       "      <td>18 Apr</td>\n",
       "      <td>206253</td>\n",
       "      <td>268</td>\n",
       "      <td>0.13</td>\n",
       "      <td>2089</td>\n",
       "      <td>2.7</td>\n",
       "    </tr>\n",
       "    <tr>\n",
       "      <th>3</th>\n",
       "      <td>1</td>\n",
       "      <td>United Arab Emirates</td>\n",
       "      <td>15 Apr</td>\n",
       "      <td>767000</td>\n",
       "      <td>5365</td>\n",
       "      <td>0.70</td>\n",
       "      <td>79901</td>\n",
       "      <td>559</td>\n",
       "    </tr>\n",
       "    <tr>\n",
       "      <th>4</th>\n",
       "      <td>58</td>\n",
       "      <td>Taiwan[a]</td>\n",
       "      <td>18 Apr</td>\n",
       "      <td>52445</td>\n",
       "      <td>398</td>\n",
       "      <td>0.76</td>\n",
       "      <td>2205</td>\n",
       "      <td>17</td>\n",
       "    </tr>\n",
       "  </tbody>\n",
       "</table>\n",
       "</div>"
      ],
      "text/plain": [
       "   Unnamed: 0               country    date  n_tests  n_positive  \\\n",
       "0          85           North Korea   2 Apr      709           0   \n",
       "1          65                 Nepal  18 Apr    27467          30   \n",
       "2          60               Vietnam  18 Apr   206253         268   \n",
       "3           1  United Arab Emirates  15 Apr   767000        5365   \n",
       "4          58             Taiwan[a]  18 Apr    52445         398   \n",
       "\n",
       "   pct_positive  test_by_million pos_by_million  \n",
       "0          0.00               28              0  \n",
       "1          0.11              978            1.1  \n",
       "2          0.13             2089            2.7  \n",
       "3          0.70            79901            559  \n",
       "4          0.76             2205             17  "
      ]
     },
     "execution_count": 171,
     "metadata": {},
     "output_type": "execute_result"
    }
   ],
   "source": [
    "cd.head()"
   ]
  },
  {
   "cell_type": "code",
   "execution_count": 172,
   "metadata": {},
   "outputs": [
    {
     "data": {
      "text/html": [
       "<div>\n",
       "<style scoped>\n",
       "    .dataframe tbody tr th:only-of-type {\n",
       "        vertical-align: middle;\n",
       "    }\n",
       "\n",
       "    .dataframe tbody tr th {\n",
       "        vertical-align: top;\n",
       "    }\n",
       "\n",
       "    .dataframe thead th {\n",
       "        text-align: right;\n",
       "    }\n",
       "</style>\n",
       "<table border=\"1\" class=\"dataframe\">\n",
       "  <thead>\n",
       "    <tr style=\"text-align: right;\">\n",
       "      <th></th>\n",
       "      <th>Unnamed: 0</th>\n",
       "      <th>country</th>\n",
       "      <th>date</th>\n",
       "      <th>n_tests</th>\n",
       "      <th>n_positive</th>\n",
       "      <th>pct_positive</th>\n",
       "      <th>test_by_million</th>\n",
       "      <th>pos_by_million</th>\n",
       "    </tr>\n",
       "  </thead>\n",
       "  <tbody>\n",
       "  </tbody>\n",
       "</table>\n",
       "</div>"
      ],
      "text/plain": [
       "Empty DataFrame\n",
       "Columns: [Unnamed: 0, country, date, n_tests, n_positive, pct_positive, test_by_million, pos_by_million]\n",
       "Index: []"
      ]
     },
     "execution_count": 172,
     "metadata": {},
     "output_type": "execute_result"
    }
   ],
   "source": [
    "cd[cd.country == 'Zimbabwe']"
   ]
  },
  {
   "cell_type": "code",
   "execution_count": 173,
   "metadata": {},
   "outputs": [],
   "source": [
    "idx = cd[cd.country == 'Taiwan[a]'].index\n",
    "cd.loc[idx, 'country'] = 'Taiwan'"
   ]
  },
  {
   "cell_type": "code",
   "execution_count": 174,
   "metadata": {},
   "outputs": [],
   "source": [
    "# take only what we need\n",
    "cd = cd[['country', 'pct_positive', 'test_by_million']]"
   ]
  },
  {
   "cell_type": "code",
   "execution_count": 175,
   "metadata": {},
   "outputs": [
    {
     "data": {
      "text/plain": [
       "array(['North Korea', 'Nepal', 'Vietnam', 'United Arab Emirates',\n",
       "       'Taiwan', 'New Zealand', 'Bahrain', 'Australia', 'Azerbaijan',\n",
       "       'Palestine', 'Kyrgyzstan', 'Russia', 'South Korea', 'Lithuania',\n",
       "       'Latvia', 'Malta', 'South Africa', 'Slovakia', 'Bulgaria',\n",
       "       'Slovenia', 'Kazakhstan', 'Estonia', 'Czechia', 'Hungary',\n",
       "       'Iceland', 'India', 'Poland', 'Norway', 'Egypt', 'Malaysia',\n",
       "       'Belarus', 'Israel', 'Canada', 'Greece', 'Brazil', 'Finland',\n",
       "       'Colombia', 'Montenegro', 'Nigeria', 'Thailand', 'Denmark',\n",
       "       'Bosnia and Herzegovina', 'Germany', 'Barbados', 'Venezuela',\n",
       "       'Pakistan', 'Austria', 'Singapore', 'Trinidad and Tobago', 'Japan',\n",
       "       'Costa Rica', 'Chile', 'Romania', 'Ukraine', 'Bangladesh',\n",
       "       'North Macedonia', 'Albania', 'Portugal', 'Croatia', 'Philippines',\n",
       "       'Peru', 'Jamaica', 'Luxembourg', 'Armenia', 'Kosovo', 'Argentina',\n",
       "       'Uruguay', 'Bolivia', 'Ireland', 'Mexico', 'Switzerland', 'Italy',\n",
       "       'Turkey', 'Grenada', 'Indonesia', 'Sweden', 'Serbia', 'Spain',\n",
       "       'United States', 'Netherlands', 'Panama', 'France', 'Iran',\n",
       "       'Belgium', 'Ecuador', 'United Kingdom'], dtype=object)"
      ]
     },
     "execution_count": 175,
     "metadata": {},
     "output_type": "execute_result"
    }
   ],
   "source": [
    "cd.country.unique()"
   ]
  },
  {
   "cell_type": "code",
   "execution_count": 176,
   "metadata": {},
   "outputs": [
    {
     "data": {
      "text/plain": [
       "array(['Afghanistan', 'Albania', 'Algeria', 'Andorra', 'Angola',\n",
       "       'Antigua and Barbuda', 'Argentina', 'Armenia', 'Aruba',\n",
       "       'Australia', 'Austria', 'Azerbaijan', 'Bahamas', 'Bahrain',\n",
       "       'Bangladesh', 'Barbados', 'Belarus', 'Belgium', 'Belize', 'Benin',\n",
       "       'Bermuda', 'Bhutan', 'Bolivia', 'Bosnia and Herzegovina',\n",
       "       'Botswana', 'Brazil', 'British Virgin Islands',\n",
       "       'Brunei Darussalam', 'Bulgaria', 'Burkina Faso', 'Myanmar',\n",
       "       'Burundi', 'Cape Verde', 'Cambodia', 'Cameroon', 'Canada',\n",
       "       'Cayman Islands', 'Central African Republic', 'Chad', 'Chile',\n",
       "       'China', 'Colombia', 'Congo', 'Democratic Republic of the Congo',\n",
       "       'Costa Rica', 'Cote dIvoire', 'Croatia', 'Cuba', 'Curaçao',\n",
       "       'Cyprus', 'Czechia', 'Denmark', 'Djibouti', 'Dominica',\n",
       "       'Dominican Republic', 'Ecuador', 'Egypt', 'El Salvador',\n",
       "       'Equatorial Guinea', 'Eritrea', 'Estonia', 'Eswatini', 'Ethiopia',\n",
       "       'Faroe Islands', 'Fiji', 'Finland', 'France', 'French Polynesia',\n",
       "       'Gabon', 'Gambia', 'Georgia', 'Germany', 'Ghana', 'Gibraltar',\n",
       "       'Greece', 'Greenland', 'Grenada', 'Guatemala', 'Guinea',\n",
       "       'Guinea Bissau', 'Guyana', 'Haiti', 'Holy See', 'Honduras',\n",
       "       'Hungary', 'Iceland', 'India', 'Indonesia', 'Iran', 'Iraq',\n",
       "       'Ireland', 'Isle of Man', 'Israel', 'Italy', 'Jamaica', 'Japan',\n",
       "       'Jordan', 'Kazakhstan', 'Kenya', 'South Korea', 'Kosovo', 'Kuwait',\n",
       "       'Kyrgyzstan', 'Laos', 'Latvia', 'Lebanon', 'Liberia', 'Libya',\n",
       "       'Liechtenstein', 'Lithuania', 'Luxembourg', 'Madagascar', 'Malawi',\n",
       "       'Malaysia', 'Maldives', 'Mali', 'Malta', 'Mauritania', 'Mauritius',\n",
       "       'Mexico', 'Moldova', 'Monaco', 'Mongolia', 'Montenegro',\n",
       "       'Montserrat', 'Morocco', 'Mozambique', 'Namibia', 'Nepal',\n",
       "       'Netherlands', 'New Caledonia', 'New Zealand', 'Nicaragua',\n",
       "       'Niger', 'Nigeria', 'North Macedonia', 'Norway', 'Oman',\n",
       "       'Pakistan', 'Panama', 'Papua New Guinea', 'Paraguay', 'Peru',\n",
       "       'Philippines', 'Poland', 'Portugal', 'Qatar', 'Romania', 'Russia',\n",
       "       'Rwanda', 'Saint Kitts and Nevis', 'Saint Lucia',\n",
       "       'Saint Vincent and the Grenadines', 'San Marino',\n",
       "       'Sao Tome and Principe', 'Saudi Arabia', 'Senegal', 'Serbia',\n",
       "       'Seychelles', 'Sierra Leone', 'Singapore', 'Sint Maarten',\n",
       "       'Slovakia', 'Slovenia', 'Somalia', 'South Africa', 'South Sudan',\n",
       "       'Spain', 'Sri Lanka', 'Sudan', 'Suriname', 'Sweden', 'Switzerland',\n",
       "       'Syria', 'Taiwan', 'United Republic of Tanzania', 'Thailand',\n",
       "       'Timor Leste', 'Togo', 'Trinidad and Tobago', 'Tunisia', 'Turkey',\n",
       "       'Turks and Caicos islands', 'United States of America', 'Uganda',\n",
       "       'Ukraine', 'United Arab Emirates', 'United Kingdom', 'Uruguay',\n",
       "       'Uzbekistan', 'Venezuela', 'Vietnam', 'Palestine', 'Yemen',\n",
       "       'Zambia', 'Zimbabwe'], dtype=object)"
      ]
     },
     "execution_count": 176,
     "metadata": {},
     "output_type": "execute_result"
    }
   ],
   "source": [
    "fd.country.unique()"
   ]
  },
  {
   "cell_type": "code",
   "execution_count": 177,
   "metadata": {},
   "outputs": [],
   "source": [
    "# rename united states\n",
    "idx = cd[cd.country == 'United States'].index\n",
    "cd.loc[idx, 'country'] = 'United States of America'\n",
    "# remove north korea cause its useless\n",
    "cd = cd[cd.country != 'North Korea']\n",
    "# rezult: 84 from 86 countries"
   ]
  },
  {
   "cell_type": "code",
   "execution_count": 178,
   "metadata": {},
   "outputs": [
    {
     "name": "stdout",
     "output_type": "stream",
     "text": [
      "0. Good: Nepal\n",
      "1. Good: Vietnam\n",
      "2. Good: United Arab Emirates\n",
      "3. Good: Taiwan\n",
      "4. Good: New Zealand\n",
      "5. Good: Bahrain\n",
      "6. Good: Australia\n",
      "7. Good: Azerbaijan\n",
      "8. Good: Palestine\n",
      "9. Good: Kyrgyzstan\n",
      "10. Good: Russia\n",
      "11. Good: South Korea\n",
      "12. Good: Lithuania\n",
      "13. Good: Latvia\n",
      "14. Good: Malta\n",
      "15. Good: South Africa\n",
      "16. Good: Slovakia\n",
      "17. Good: Bulgaria\n",
      "18. Good: Slovenia\n",
      "19. Good: Kazakhstan\n",
      "20. Good: Estonia\n",
      "21. Good: Czechia\n",
      "22. Good: Hungary\n",
      "23. Good: Iceland\n",
      "24. Good: India\n",
      "25. Good: Poland\n",
      "26. Good: Norway\n",
      "27. Good: Egypt\n",
      "28. Good: Malaysia\n",
      "29. Good: Belarus\n",
      "30. Good: Israel\n",
      "31. Good: Canada\n",
      "32. Good: Greece\n",
      "33. Good: Brazil\n",
      "34. Good: Finland\n",
      "35. Good: Colombia\n",
      "36. Good: Montenegro\n",
      "37. Good: Nigeria\n",
      "38. Good: Thailand\n",
      "39. Good: Denmark\n",
      "40. Good: Bosnia and Herzegovina\n",
      "41. Good: Germany\n",
      "42. Good: Barbados\n",
      "43. Good: Venezuela\n",
      "44. Good: Pakistan\n",
      "45. Good: Austria\n",
      "46. Good: Singapore\n",
      "47. Good: Trinidad and Tobago\n",
      "48. Good: Japan\n",
      "49. Good: Costa Rica\n",
      "50. Good: Chile\n",
      "51. Good: Romania\n",
      "52. Good: Ukraine\n",
      "53. Good: Bangladesh\n",
      "54. Good: North Macedonia\n",
      "55. Good: Albania\n",
      "56. Good: Portugal\n",
      "57. Good: Croatia\n",
      "58. Good: Philippines\n",
      "59. Good: Peru\n",
      "60. Good: Jamaica\n",
      "61. Good: Luxembourg\n",
      "62. Good: Armenia\n",
      "63. Good: Kosovo\n",
      "64. Good: Argentina\n",
      "65. Good: Uruguay\n",
      "66. Good: Bolivia\n",
      "67. Good: Ireland\n",
      "68. Good: Mexico\n",
      "69. Good: Switzerland\n",
      "70. Good: Italy\n",
      "71. Good: Turkey\n",
      "72. Good: Grenada\n",
      "73. Good: Indonesia\n",
      "74. Good: Sweden\n",
      "75. Good: Serbia\n",
      "76. Good: Spain\n",
      "77. Good: United States of America\n",
      "78. Good: Netherlands\n",
      "79. Good: Panama\n",
      "80. Good: France\n",
      "81. Good: Iran\n",
      "82. Good: Belgium\n",
      "83. Good: Ecuador\n",
      "84. Good: United Kingdom\n"
     ]
    }
   ],
   "source": [
    "j = 0\n",
    "for i, country_cd in enumerate(cd.country.unique()):\n",
    "    found = False\n",
    "    for country in fd.country.unique():\n",
    "        if country_cd == country:\n",
    "            j += 1\n",
    "            print(f\"{i}. Good: {country_cd}\")\n",
    "            found = True\n",
    "    if not found:      \n",
    "        print(f\"{i}. No match: {country_cd}\")"
   ]
  },
  {
   "cell_type": "code",
   "execution_count": 179,
   "metadata": {},
   "outputs": [
    {
     "data": {
      "text/plain": [
       "Index(['country', 'pct_positive', 'test_by_million'], dtype='object')"
      ]
     },
     "execution_count": 179,
     "metadata": {},
     "output_type": "execute_result"
    }
   ],
   "source": [
    "cd.columns"
   ]
  },
  {
   "cell_type": "code",
   "execution_count": 180,
   "metadata": {},
   "outputs": [],
   "source": [
    "#country_dict = pd.read_csv(\"../country_dict_with_region.csv\")"
   ]
  },
  {
   "cell_type": "code",
   "execution_count": 181,
   "metadata": {},
   "outputs": [],
   "source": [
    "#country_dict[\"country\"] = country_dict[\"country\"].str.replace(\"_\", \" \")"
   ]
  },
  {
   "cell_type": "code",
   "execution_count": 182,
   "metadata": {},
   "outputs": [],
   "source": [
    "#country_dict = country_dict.drop(columns=\"code\")"
   ]
  },
  {
   "cell_type": "code",
   "execution_count": 183,
   "metadata": {},
   "outputs": [],
   "source": [
    "#country_dict = country_dict.set_index(\"country\")"
   ]
  },
  {
   "cell_type": "code",
   "execution_count": 184,
   "metadata": {},
   "outputs": [],
   "source": [
    "#region_dict = country_dict.to_dict()[\"region\"]"
   ]
  },
  {
   "cell_type": "code",
   "execution_count": 185,
   "metadata": {},
   "outputs": [],
   "source": [
    "#cd[\"region\"] = cd[\"country\"].map(region_dict)"
   ]
  },
  {
   "cell_type": "code",
   "execution_count": 186,
   "metadata": {},
   "outputs": [],
   "source": [
    "country_dict = pd.read_csv(\"../country_dict_with_region.csv\")\n",
    "country_dict[\"country\"] = country_dict[\"country\"].str.replace(\"_\", \" \")\n",
    "country_dict = country_dict.drop(columns=\"code\")"
   ]
  },
  {
   "cell_type": "code",
   "execution_count": 187,
   "metadata": {},
   "outputs": [],
   "source": [
    "cd_m = country_dict.join(cd.set_index(['country']), on='country', how='left').reset_index(drop=True)"
   ]
  },
  {
   "cell_type": "code",
   "execution_count": 188,
   "metadata": {},
   "outputs": [],
   "source": [
    "regions_avg = cd_m.groupby(\"region\").mean()"
   ]
  },
  {
   "cell_type": "code",
   "execution_count": 189,
   "metadata": {},
   "outputs": [],
   "source": [
    "pct_positive = regions_avg.drop(columns=\"test_by_million\")\n",
    "pct_positive_dict = pct_positive.to_dict()[\"pct_positive\"]\n",
    "\n",
    "test_by_million = regions_avg.drop(columns=\"pct_positive\")\n",
    "test_by_million_dict = test_by_million.to_dict()[\"test_by_million\"]"
   ]
  },
  {
   "cell_type": "code",
   "execution_count": 190,
   "metadata": {},
   "outputs": [],
   "source": [
    "cd_m.pct_positive = cd_m.pct_positive.fillna(cd_m.region.map(pct_positive_dict))\n",
    "cd_m.test_by_million = cd_m.test_by_million.fillna(cd_m.region.map(test_by_million_dict))"
   ]
  },
  {
   "cell_type": "code",
   "execution_count": 191,
   "metadata": {},
   "outputs": [
    {
     "data": {
      "text/plain": [
       "Index(['date', 'country', 'confirmed', 'recovered', 'deaths', 'country_code',\n",
       "       'S1_School closing', 'S1_IsGeneral', 'S2_Workplace closing',\n",
       "       'S2_IsGeneral', 'S3_Cancel public events', 'S3_IsGeneral',\n",
       "       'S4_Close public transport', 'S4_IsGeneral',\n",
       "       'S5_Public information campaigns', 'S5_IsGeneral',\n",
       "       'S6_Restrictions on internal movement', 'S6_IsGeneral',\n",
       "       'S7_International travel controls', 'S8_Fiscal measures',\n",
       "       'S9_Monetary measures', 'S10_Emergency investment in health care',\n",
       "       'S11_Investment in Vaccines', 'S12_Testing framework',\n",
       "       'S13_Contact tracing', 'StringencyIndex', 'StringencyIndexForDisplay'],\n",
       "      dtype='object')"
      ]
     },
     "execution_count": 191,
     "metadata": {},
     "output_type": "execute_result"
    }
   ],
   "source": [
    "fd.columns"
   ]
  },
  {
   "cell_type": "code",
   "execution_count": 192,
   "metadata": {},
   "outputs": [
    {
     "data": {
      "text/plain": [
       "(17052, 27)"
      ]
     },
     "execution_count": 192,
     "metadata": {},
     "output_type": "execute_result"
    }
   ],
   "source": [
    "fd.shape"
   ]
  },
  {
   "cell_type": "code",
   "execution_count": 193,
   "metadata": {},
   "outputs": [
    {
     "data": {
      "text/plain": [
       "(202, 4)"
      ]
     },
     "execution_count": 193,
     "metadata": {},
     "output_type": "execute_result"
    }
   ],
   "source": [
    "cd_m.shape"
   ]
  },
  {
   "cell_type": "code",
   "execution_count": 194,
   "metadata": {},
   "outputs": [],
   "source": [
    "fd_m = fd.join(cd_m.set_index(['country']), on='country', how='left').reset_index(drop=True)"
   ]
  },
  {
   "cell_type": "code",
   "execution_count": 195,
   "metadata": {},
   "outputs": [
    {
     "data": {
      "text/plain": [
       "(17052, 30)"
      ]
     },
     "execution_count": 195,
     "metadata": {},
     "output_type": "execute_result"
    }
   ],
   "source": [
    "fd_m.shape"
   ]
  },
  {
   "cell_type": "code",
   "execution_count": 196,
   "metadata": {},
   "outputs": [],
   "source": [
    "fd_m.to_csv(\"../Datasets/features_format_cgrt_cd_IA.csv\", index=False)"
   ]
  },
  {
   "cell_type": "code",
   "execution_count": null,
   "metadata": {},
   "outputs": [],
   "source": []
  }
 ],
 "metadata": {
  "kernelspec": {
   "display_name": "conda_amazonei_tensorflow_p36",
   "language": "python",
   "name": "conda_amazonei_tensorflow_p36"
  },
  "language_info": {
   "codemirror_mode": {
    "name": "ipython",
    "version": 3
   },
   "file_extension": ".py",
   "mimetype": "text/x-python",
   "name": "python",
   "nbconvert_exporter": "python",
   "pygments_lexer": "ipython3",
   "version": "3.6.6"
  }
 },
 "nbformat": 4,
 "nbformat_minor": 4
}
