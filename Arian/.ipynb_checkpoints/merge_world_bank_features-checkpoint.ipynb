{
 "cells": [
  {
   "cell_type": "code",
   "execution_count": 27,
   "metadata": {},
   "outputs": [
    {
     "name": "stdout",
     "output_type": "stream",
     "text": [
      "date and time = 18_04_2020_21_18\n"
     ]
    }
   ],
   "source": [
    "from datetime import datetime\n",
    "\n",
    "# datetime object containing current date and time\n",
    "now = datetime.now()\n",
    "\n",
    "# dd/mm/YY H:M:S\n",
    "dt_string = now.strftime(\"%d_%m_%Y_%H_%M\")\n",
    "print(\"date and time =\", dt_string)\t"
   ]
  },
  {
   "cell_type": "code",
   "execution_count": 42,
   "metadata": {},
   "outputs": [],
   "source": [
    "import pandas as pd"
   ]
  },
  {
   "cell_type": "code",
   "execution_count": 43,
   "metadata": {},
   "outputs": [],
   "source": [
    "fe = pd.read_csv(\"../Datasets/features_format_cgrt_cd_IA.csv\")\n",
    "# cleaned data\n",
    "wb = pd.read_csv(\"../Datasets/world_bank_features.csv\")"
   ]
  },
  {
   "cell_type": "code",
   "execution_count": 44,
   "metadata": {},
   "outputs": [
    {
     "data": {
      "text/plain": [
       "(17052, 30)"
      ]
     },
     "execution_count": 44,
     "metadata": {},
     "output_type": "execute_result"
    }
   ],
   "source": [
    "fe.shape"
   ]
  },
  {
   "cell_type": "code",
   "execution_count": 45,
   "metadata": {},
   "outputs": [
    {
     "data": {
      "text/plain": [
       "(202, 7)"
      ]
     },
     "execution_count": 45,
     "metadata": {},
     "output_type": "execute_result"
    }
   ],
   "source": [
    "wb.shape"
   ]
  },
  {
   "cell_type": "code",
   "execution_count": 46,
   "metadata": {},
   "outputs": [
    {
     "data": {
      "text/plain": [
       "Index(['countryterritoryCode', 'countriesAndTerritories',\n",
       "       'GDP per capita (current US$)',\n",
       "       'Current health expenditure per capita (current US$)',\n",
       "       'Population ages 65 and above (% of total population)',\n",
       "       'Population density', 'Urban population (% of total population)'],\n",
       "      dtype='object')"
      ]
     },
     "execution_count": 46,
     "metadata": {},
     "output_type": "execute_result"
    }
   ],
   "source": [
    "wb.columns"
   ]
  },
  {
   "cell_type": "code",
   "execution_count": 47,
   "metadata": {},
   "outputs": [
    {
     "data": {
      "text/plain": [
       "Index(['date', 'country', 'confirmed', 'recovered', 'deaths', 'country_code',\n",
       "       'S1_School closing', 'S1_IsGeneral', 'S2_Workplace closing',\n",
       "       'S2_IsGeneral', 'S3_Cancel public events', 'S3_IsGeneral',\n",
       "       'S4_Close public transport', 'S4_IsGeneral',\n",
       "       'S5_Public information campaigns', 'S5_IsGeneral',\n",
       "       'S6_Restrictions on internal movement', 'S6_IsGeneral',\n",
       "       'S7_International travel controls', 'S8_Fiscal measures',\n",
       "       'S9_Monetary measures', 'S10_Emergency investment in health care',\n",
       "       'S11_Investment in Vaccines', 'S12_Testing framework',\n",
       "       'S13_Contact tracing', 'StringencyIndex', 'StringencyIndexForDisplay',\n",
       "       'region', 'pct_positive', 'test_by_million'],\n",
       "      dtype='object')"
      ]
     },
     "execution_count": 47,
     "metadata": {},
     "output_type": "execute_result"
    }
   ],
   "source": [
    "fe.columns"
   ]
  },
  {
   "cell_type": "code",
   "execution_count": 48,
   "metadata": {},
   "outputs": [],
   "source": [
    "mer = fe.join(wb.set_index(['countriesAndTerritories']), on='country', how='left').reset_index(drop=True)"
   ]
  },
  {
   "cell_type": "code",
   "execution_count": 49,
   "metadata": {},
   "outputs": [],
   "source": [
    "mer = mer.drop(columns=['countryterritoryCode'])"
   ]
  },
  {
   "cell_type": "code",
   "execution_count": 50,
   "metadata": {},
   "outputs": [
    {
     "data": {
      "text/plain": [
       "Index(['date', 'country', 'confirmed', 'recovered', 'deaths', 'country_code',\n",
       "       'S1_School closing', 'S1_IsGeneral', 'S2_Workplace closing',\n",
       "       'S2_IsGeneral', 'S3_Cancel public events', 'S3_IsGeneral',\n",
       "       'S4_Close public transport', 'S4_IsGeneral',\n",
       "       'S5_Public information campaigns', 'S5_IsGeneral',\n",
       "       'S6_Restrictions on internal movement', 'S6_IsGeneral',\n",
       "       'S7_International travel controls', 'S8_Fiscal measures',\n",
       "       'S9_Monetary measures', 'S10_Emergency investment in health care',\n",
       "       'S11_Investment in Vaccines', 'S12_Testing framework',\n",
       "       'S13_Contact tracing', 'StringencyIndex', 'StringencyIndexForDisplay',\n",
       "       'region', 'pct_positive', 'test_by_million',\n",
       "       'GDP per capita (current US$)',\n",
       "       'Current health expenditure per capita (current US$)',\n",
       "       'Population ages 65 and above (% of total population)',\n",
       "       'Population density', 'Urban population (% of total population)'],\n",
       "      dtype='object')"
      ]
     },
     "execution_count": 50,
     "metadata": {},
     "output_type": "execute_result"
    }
   ],
   "source": [
    "mer.columns"
   ]
  },
  {
   "cell_type": "code",
   "execution_count": 51,
   "metadata": {},
   "outputs": [],
   "source": [
    "mer.to_csv(f\"../Datasets/features_format_{dt_string}.csv\", index=False)"
   ]
  },
  {
   "cell_type": "code",
   "execution_count": null,
   "metadata": {},
   "outputs": [],
   "source": []
  }
 ],
 "metadata": {
  "kernelspec": {
   "display_name": "conda_amazonei_mxnet_p36",
   "language": "python",
   "name": "conda_amazonei_mxnet_p36"
  },
  "language_info": {
   "codemirror_mode": {
    "name": "ipython",
    "version": 3
   },
   "file_extension": ".py",
   "mimetype": "text/x-python",
   "name": "python",
   "nbconvert_exporter": "python",
   "pygments_lexer": "ipython3",
   "version": "3.6.5"
  }
 },
 "nbformat": 4,
 "nbformat_minor": 4
}
