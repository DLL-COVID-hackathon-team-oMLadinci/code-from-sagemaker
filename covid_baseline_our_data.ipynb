{
 "cells": [
  {
   "cell_type": "code",
   "execution_count": 28,
   "metadata": {},
   "outputs": [],
   "source": [
    "import pandas as pd\n",
    "import numpy as np\n",
    "import matplotlib.pyplot as plt\n",
    "import io\n",
    "import requests\n",
    "import itertools\n",
    "import warnings\n",
    "from tqdm import tqdm\n",
    "\n",
    "warnings.filterwarnings('ignore')"
   ]
  },
  {
   "cell_type": "code",
   "execution_count": 29,
   "metadata": {},
   "outputs": [],
   "source": [
    "filestream = io.StringIO(\n",
    "        requests.get('https://opendata.ecdc.europa.eu/covid19/casedistribution/csv').content.decode('utf-8')\n",
    "    )"
   ]
  },
  {
   "cell_type": "code",
   "execution_count": 30,
   "metadata": {},
   "outputs": [],
   "source": [
    "dataset = pd.read_csv(\n",
    "    filestream,    \n",
    "    usecols=[\n",
    "        'dateRep', \n",
    "        'cases', \n",
    "        'deaths',\n",
    "        'countriesAndTerritories',\n",
    "        'popData2018',\n",
    "    ],\n",
    "    parse_dates=['dateRep'],\n",
    "    infer_datetime_format=True,\n",
    ")"
   ]
  },
  {
   "cell_type": "code",
   "execution_count": 31,
   "metadata": {},
   "outputs": [],
   "source": [
    "df = pd.read_csv(\"Datasets/features_format_final.csv\", parse_dates=[\"date\"])"
   ]
  },
  {
   "cell_type": "code",
   "execution_count": 32,
   "metadata": {},
   "outputs": [
    {
     "data": {
      "text/html": [
       "<div>\n",
       "<style scoped>\n",
       "    .dataframe tbody tr th:only-of-type {\n",
       "        vertical-align: middle;\n",
       "    }\n",
       "\n",
       "    .dataframe tbody tr th {\n",
       "        vertical-align: top;\n",
       "    }\n",
       "\n",
       "    .dataframe thead th {\n",
       "        text-align: right;\n",
       "    }\n",
       "</style>\n",
       "<table border=\"1\" class=\"dataframe\">\n",
       "  <thead>\n",
       "    <tr style=\"text-align: right;\">\n",
       "      <th></th>\n",
       "      <th>date</th>\n",
       "      <th>country</th>\n",
       "      <th>confirmed</th>\n",
       "      <th>recovered</th>\n",
       "      <th>deaths</th>\n",
       "      <th>country_code</th>\n",
       "      <th>S1_School closing</th>\n",
       "      <th>S1_IsGeneral</th>\n",
       "      <th>S2_Workplace closing</th>\n",
       "      <th>S2_IsGeneral</th>\n",
       "      <th>...</th>\n",
       "      <th>StringencyIndex</th>\n",
       "      <th>StringencyIndexForDisplay</th>\n",
       "      <th>region</th>\n",
       "      <th>pct_positive</th>\n",
       "      <th>test_by_million</th>\n",
       "      <th>GDP per capita (current US$)</th>\n",
       "      <th>Current health expenditure per capita (current US$)</th>\n",
       "      <th>Population ages 65 and above (% of total population)</th>\n",
       "      <th>Population density</th>\n",
       "      <th>Urban population (% of total population)</th>\n",
       "    </tr>\n",
       "  </thead>\n",
       "  <tbody>\n",
       "    <tr>\n",
       "      <th>0</th>\n",
       "      <td>2020-01-22</td>\n",
       "      <td>Afghanistan</td>\n",
       "      <td>0.0</td>\n",
       "      <td>0.0</td>\n",
       "      <td>0.0</td>\n",
       "      <td>AFG</td>\n",
       "      <td>0.0</td>\n",
       "      <td>1.0</td>\n",
       "      <td>0.0</td>\n",
       "      <td>NaN</td>\n",
       "      <td>...</td>\n",
       "      <td>0.0</td>\n",
       "      <td>0.0</td>\n",
       "      <td>South Asia</td>\n",
       "      <td>5.6775</td>\n",
       "      <td>445.5</td>\n",
       "      <td>520.896603</td>\n",
       "      <td>67.12265</td>\n",
       "      <td>2.584927</td>\n",
       "      <td>56.93776</td>\n",
       "      <td>25.495</td>\n",
       "    </tr>\n",
       "    <tr>\n",
       "      <th>1</th>\n",
       "      <td>2020-01-23</td>\n",
       "      <td>Afghanistan</td>\n",
       "      <td>0.0</td>\n",
       "      <td>0.0</td>\n",
       "      <td>0.0</td>\n",
       "      <td>AFG</td>\n",
       "      <td>0.0</td>\n",
       "      <td>1.0</td>\n",
       "      <td>0.0</td>\n",
       "      <td>NaN</td>\n",
       "      <td>...</td>\n",
       "      <td>0.0</td>\n",
       "      <td>0.0</td>\n",
       "      <td>South Asia</td>\n",
       "      <td>5.6775</td>\n",
       "      <td>445.5</td>\n",
       "      <td>520.896603</td>\n",
       "      <td>67.12265</td>\n",
       "      <td>2.584927</td>\n",
       "      <td>56.93776</td>\n",
       "      <td>25.495</td>\n",
       "    </tr>\n",
       "    <tr>\n",
       "      <th>2</th>\n",
       "      <td>2020-01-24</td>\n",
       "      <td>Afghanistan</td>\n",
       "      <td>0.0</td>\n",
       "      <td>0.0</td>\n",
       "      <td>0.0</td>\n",
       "      <td>AFG</td>\n",
       "      <td>0.0</td>\n",
       "      <td>1.0</td>\n",
       "      <td>0.0</td>\n",
       "      <td>NaN</td>\n",
       "      <td>...</td>\n",
       "      <td>0.0</td>\n",
       "      <td>0.0</td>\n",
       "      <td>South Asia</td>\n",
       "      <td>5.6775</td>\n",
       "      <td>445.5</td>\n",
       "      <td>520.896603</td>\n",
       "      <td>67.12265</td>\n",
       "      <td>2.584927</td>\n",
       "      <td>56.93776</td>\n",
       "      <td>25.495</td>\n",
       "    </tr>\n",
       "    <tr>\n",
       "      <th>3</th>\n",
       "      <td>2020-01-25</td>\n",
       "      <td>Afghanistan</td>\n",
       "      <td>0.0</td>\n",
       "      <td>0.0</td>\n",
       "      <td>0.0</td>\n",
       "      <td>AFG</td>\n",
       "      <td>0.0</td>\n",
       "      <td>1.0</td>\n",
       "      <td>0.0</td>\n",
       "      <td>NaN</td>\n",
       "      <td>...</td>\n",
       "      <td>0.0</td>\n",
       "      <td>0.0</td>\n",
       "      <td>South Asia</td>\n",
       "      <td>5.6775</td>\n",
       "      <td>445.5</td>\n",
       "      <td>520.896603</td>\n",
       "      <td>67.12265</td>\n",
       "      <td>2.584927</td>\n",
       "      <td>56.93776</td>\n",
       "      <td>25.495</td>\n",
       "    </tr>\n",
       "    <tr>\n",
       "      <th>4</th>\n",
       "      <td>2020-01-26</td>\n",
       "      <td>Afghanistan</td>\n",
       "      <td>0.0</td>\n",
       "      <td>0.0</td>\n",
       "      <td>0.0</td>\n",
       "      <td>AFG</td>\n",
       "      <td>0.0</td>\n",
       "      <td>1.0</td>\n",
       "      <td>0.0</td>\n",
       "      <td>NaN</td>\n",
       "      <td>...</td>\n",
       "      <td>0.0</td>\n",
       "      <td>0.0</td>\n",
       "      <td>South Asia</td>\n",
       "      <td>5.6775</td>\n",
       "      <td>445.5</td>\n",
       "      <td>520.896603</td>\n",
       "      <td>67.12265</td>\n",
       "      <td>2.584927</td>\n",
       "      <td>56.93776</td>\n",
       "      <td>25.495</td>\n",
       "    </tr>\n",
       "  </tbody>\n",
       "</table>\n",
       "<p>5 rows × 35 columns</p>\n",
       "</div>"
      ],
      "text/plain": [
       "        date      country  confirmed  recovered  deaths country_code  \\\n",
       "0 2020-01-22  Afghanistan        0.0        0.0     0.0          AFG   \n",
       "1 2020-01-23  Afghanistan        0.0        0.0     0.0          AFG   \n",
       "2 2020-01-24  Afghanistan        0.0        0.0     0.0          AFG   \n",
       "3 2020-01-25  Afghanistan        0.0        0.0     0.0          AFG   \n",
       "4 2020-01-26  Afghanistan        0.0        0.0     0.0          AFG   \n",
       "\n",
       "   S1_School closing  S1_IsGeneral  S2_Workplace closing  S2_IsGeneral  ...  \\\n",
       "0                0.0           1.0                   0.0           NaN  ...   \n",
       "1                0.0           1.0                   0.0           NaN  ...   \n",
       "2                0.0           1.0                   0.0           NaN  ...   \n",
       "3                0.0           1.0                   0.0           NaN  ...   \n",
       "4                0.0           1.0                   0.0           NaN  ...   \n",
       "\n",
       "   StringencyIndex  StringencyIndexForDisplay      region  pct_positive  \\\n",
       "0              0.0                        0.0  South Asia        5.6775   \n",
       "1              0.0                        0.0  South Asia        5.6775   \n",
       "2              0.0                        0.0  South Asia        5.6775   \n",
       "3              0.0                        0.0  South Asia        5.6775   \n",
       "4              0.0                        0.0  South Asia        5.6775   \n",
       "\n",
       "   test_by_million  GDP per capita (current US$)  \\\n",
       "0            445.5                    520.896603   \n",
       "1            445.5                    520.896603   \n",
       "2            445.5                    520.896603   \n",
       "3            445.5                    520.896603   \n",
       "4            445.5                    520.896603   \n",
       "\n",
       "   Current health expenditure per capita (current US$)  \\\n",
       "0                                           67.12265     \n",
       "1                                           67.12265     \n",
       "2                                           67.12265     \n",
       "3                                           67.12265     \n",
       "4                                           67.12265     \n",
       "\n",
       "   Population ages 65 and above (% of total population)  Population density  \\\n",
       "0                                           2.584927               56.93776   \n",
       "1                                           2.584927               56.93776   \n",
       "2                                           2.584927               56.93776   \n",
       "3                                           2.584927               56.93776   \n",
       "4                                           2.584927               56.93776   \n",
       "\n",
       "   Urban population (% of total population)  \n",
       "0                                    25.495  \n",
       "1                                    25.495  \n",
       "2                                    25.495  \n",
       "3                                    25.495  \n",
       "4                                    25.495  \n",
       "\n",
       "[5 rows x 35 columns]"
      ]
     },
     "execution_count": 32,
     "metadata": {},
     "output_type": "execute_result"
    }
   ],
   "source": [
    "df.head()"
   ]
  },
  {
   "cell_type": "code",
   "execution_count": 33,
   "metadata": {},
   "outputs": [
    {
     "data": {
      "text/html": [
       "<div>\n",
       "<style scoped>\n",
       "    .dataframe tbody tr th:only-of-type {\n",
       "        vertical-align: middle;\n",
       "    }\n",
       "\n",
       "    .dataframe tbody tr th {\n",
       "        vertical-align: top;\n",
       "    }\n",
       "\n",
       "    .dataframe thead th {\n",
       "        text-align: right;\n",
       "    }\n",
       "</style>\n",
       "<table border=\"1\" class=\"dataframe\">\n",
       "  <thead>\n",
       "    <tr style=\"text-align: right;\">\n",
       "      <th></th>\n",
       "      <th>dateRep</th>\n",
       "      <th>cases</th>\n",
       "      <th>deaths</th>\n",
       "      <th>countriesAndTerritories</th>\n",
       "      <th>popData2018</th>\n",
       "    </tr>\n",
       "  </thead>\n",
       "  <tbody>\n",
       "    <tr>\n",
       "      <th>0</th>\n",
       "      <td>2020-04-18</td>\n",
       "      <td>51</td>\n",
       "      <td>1</td>\n",
       "      <td>Afghanistan</td>\n",
       "      <td>37172386.0</td>\n",
       "    </tr>\n",
       "    <tr>\n",
       "      <th>1</th>\n",
       "      <td>2020-04-17</td>\n",
       "      <td>10</td>\n",
       "      <td>4</td>\n",
       "      <td>Afghanistan</td>\n",
       "      <td>37172386.0</td>\n",
       "    </tr>\n",
       "    <tr>\n",
       "      <th>2</th>\n",
       "      <td>2020-04-16</td>\n",
       "      <td>70</td>\n",
       "      <td>2</td>\n",
       "      <td>Afghanistan</td>\n",
       "      <td>37172386.0</td>\n",
       "    </tr>\n",
       "    <tr>\n",
       "      <th>3</th>\n",
       "      <td>2020-04-15</td>\n",
       "      <td>49</td>\n",
       "      <td>2</td>\n",
       "      <td>Afghanistan</td>\n",
       "      <td>37172386.0</td>\n",
       "    </tr>\n",
       "    <tr>\n",
       "      <th>4</th>\n",
       "      <td>2020-04-14</td>\n",
       "      <td>58</td>\n",
       "      <td>3</td>\n",
       "      <td>Afghanistan</td>\n",
       "      <td>37172386.0</td>\n",
       "    </tr>\n",
       "  </tbody>\n",
       "</table>\n",
       "</div>"
      ],
      "text/plain": [
       "     dateRep  cases  deaths countriesAndTerritories  popData2018\n",
       "0 2020-04-18     51       1             Afghanistan   37172386.0\n",
       "1 2020-04-17     10       4             Afghanistan   37172386.0\n",
       "2 2020-04-16     70       2             Afghanistan   37172386.0\n",
       "3 2020-04-15     49       2             Afghanistan   37172386.0\n",
       "4 2020-04-14     58       3             Afghanistan   37172386.0"
      ]
     },
     "execution_count": 33,
     "metadata": {},
     "output_type": "execute_result"
    }
   ],
   "source": [
    "dataset.head()"
   ]
  },
  {
   "cell_type": "code",
   "execution_count": 34,
   "metadata": {},
   "outputs": [],
   "source": [
    "df = df.sort_values(\"date\")"
   ]
  },
  {
   "cell_type": "code",
   "execution_count": 35,
   "metadata": {},
   "outputs": [],
   "source": [
    "dataset = dataset.sort_values(\"dateRep\")"
   ]
  },
  {
   "cell_type": "code",
   "execution_count": 36,
   "metadata": {},
   "outputs": [],
   "source": [
    "forcast_days = 7 \n",
    "split_date = dataset[\"dateRep\"].max() - np.timedelta64(forcast_days, 'D')"
   ]
  },
  {
   "cell_type": "code",
   "execution_count": 37,
   "metadata": {},
   "outputs": [],
   "source": [
    "forcast_days = 7 \n",
    "split_date_nash = df[\"date\"].max() - np.timedelta64(forcast_days, 'D')"
   ]
  },
  {
   "cell_type": "code",
   "execution_count": 38,
   "metadata": {},
   "outputs": [],
   "source": [
    "train_nash = df.loc[df['date'] < split_date_nash]\n",
    "test_nash = df.loc[df['date'] >= split_date_nash]"
   ]
  },
  {
   "cell_type": "code",
   "execution_count": 39,
   "metadata": {},
   "outputs": [],
   "source": [
    "train = dataset.loc[dataset['dateRep'] < split_date]\n",
    "test = dataset.loc[dataset['dateRep'] >= split_date]"
   ]
  },
  {
   "cell_type": "code",
   "execution_count": 40,
   "metadata": {},
   "outputs": [
    {
     "data": {
      "text/plain": [
       "dateRep                     0\n",
       "cases                       0\n",
       "deaths                      0\n",
       "countriesAndTerritories     0\n",
       "popData2018                51\n",
       "dtype: int64"
      ]
     },
     "execution_count": 40,
     "metadata": {},
     "output_type": "execute_result"
    }
   ],
   "source": [
    "train.isna().sum(axis=0)"
   ]
  },
  {
   "cell_type": "code",
   "execution_count": 41,
   "metadata": {},
   "outputs": [
    {
     "data": {
      "text/plain": [
       "date                                                        0\n",
       "country                                                     0\n",
       "confirmed                                                   0\n",
       "recovered                                                   0\n",
       "deaths                                                      0\n",
       "country_code                                                0\n",
       "S1_School closing                                        4302\n",
       "S1_IsGeneral                                            10066\n",
       "S2_Workplace closing                                     4461\n",
       "S2_IsGeneral                                            10917\n",
       "S3_Cancel public events                                  4364\n",
       "S3_IsGeneral                                            10044\n",
       "S4_Close public transport                                4482\n",
       "S4_IsGeneral                                            11807\n",
       "S5_Public information campaigns                          4457\n",
       "S5_IsGeneral                                             8112\n",
       "S6_Restrictions on internal movement                     4487\n",
       "S6_IsGeneral                                            10378\n",
       "S7_International travel controls                         4387\n",
       "S8_Fiscal measures                                       4890\n",
       "S9_Monetary measures                                     5001\n",
       "S10_Emergency investment in health care                  5258\n",
       "S11_Investment in Vaccines                               5282\n",
       "S12_Testing framework                                    4834\n",
       "S13_Contact tracing                                      5156\n",
       "StringencyIndex                                          4476\n",
       "StringencyIndexForDisplay                                4476\n",
       "region                                                      0\n",
       "pct_positive                                                0\n",
       "test_by_million                                             0\n",
       "GDP per capita (current US$)                             3555\n",
       "Current health expenditure per capita (current US$)      4345\n",
       "Population ages 65 and above (% of total population)     4108\n",
       "Population density                                       3555\n",
       "Urban population (% of total population)                 3555\n",
       "dtype: int64"
      ]
     },
     "execution_count": 41,
     "metadata": {},
     "output_type": "execute_result"
    }
   ],
   "source": [
    "train_nash.isna().sum(axis=0)"
   ]
  },
  {
   "cell_type": "code",
   "execution_count": 42,
   "metadata": {},
   "outputs": [],
   "source": [
    "def MSLE_loss(one, two):\n",
    "    loss = np.mean((np.log1p(one) - np.log1p(two))**2)  # MSLE loss\n",
    "    return loss\n",
    "\n",
    "def run_arima(train, test, order):\n",
    "    model = ARIMA(train, order=order)\n",
    "    model = model.fit(disp=0)\n",
    "    predictions = model.forecast(steps=len(test))[0]\n",
    "    loss = MSLE_loss(test, predictions)  # MSLE loss\n",
    "    return loss\n",
    "\n",
    "def evaluate_arima_params(train, test, p_list, d_list, q_list, verbose=0):\n",
    "    best_loss, best_params = float(\"inf\"), (0,0,0)\n",
    "    for params in itertools.product(p_list, d_list, q_list):\n",
    "        try:\n",
    "            loss = run_arima(train, test, params)\n",
    "            if loss < best_loss:\n",
    "                best_loss, best_params = loss, params\n",
    "        except:\n",
    "            continue \n",
    "    \n",
    "    if verbose > 0:\n",
    "        print(f'Best ARIMA params {best_params} with loss={best_loss}')\n",
    "    return best_loss, best_params"
   ]
  },
  {
   "cell_type": "markdown",
   "metadata": {},
   "source": [
    "### Fitting ARIMA model to the one country time series series NAŠE!!"
   ]
  },
  {
   "cell_type": "code",
   "execution_count": 87,
   "metadata": {},
   "outputs": [],
   "source": [
    "from statsmodels.tsa.arima_model import ARIMA\n",
    "country = \"Uganda\""
   ]
  },
  {
   "cell_type": "code",
   "execution_count": 88,
   "metadata": {},
   "outputs": [],
   "source": [
    "timeseries = train_nash[train_nash[\"country\"] == country][\"confirmed\"].tolist()"
   ]
  },
  {
   "cell_type": "code",
   "execution_count": 89,
   "metadata": {},
   "outputs": [],
   "source": [
    "test_one_country = test_nash[test_nash[\"country\"] == country]"
   ]
  },
  {
   "cell_type": "code",
   "execution_count": 90,
   "metadata": {},
   "outputs": [
    {
     "data": {
      "text/plain": [
       "0.23320339962991585"
      ]
     },
     "execution_count": 90,
     "metadata": {},
     "output_type": "execute_result"
    }
   ],
   "source": [
    "run_arima(timeseries, test_one_country[\"confirmed\"], (1,0,1))"
   ]
  },
  {
   "cell_type": "code",
   "execution_count": 91,
   "metadata": {},
   "outputs": [
    {
     "name": "stdout",
     "output_type": "stream",
     "text": [
      "Best ARIMA params (4, 0, 0) with loss=0.10323194018272533\n"
     ]
    }
   ],
   "source": [
    "loss, params = evaluate_arima_params(timeseries, test_one_country[\"confirmed\"], [0,1,2,4], [0,1,2,4], [0,1,2,4], verbose=1)"
   ]
  },
  {
   "cell_type": "code",
   "execution_count": 92,
   "metadata": {},
   "outputs": [],
   "source": [
    "model = ARIMA(timeseries, order=params)\n",
    "model = model.fit(disp=False)"
   ]
  },
  {
   "cell_type": "code",
   "execution_count": 93,
   "metadata": {},
   "outputs": [],
   "source": [
    "preds = model.forecast(steps=len(test_one_country))[0]"
   ]
  },
  {
   "cell_type": "code",
   "execution_count": 94,
   "metadata": {},
   "outputs": [
    {
     "data": {
      "text/plain": [
       "<matplotlib.legend.Legend at 0x7f5639aafb00>"
      ]
     },
     "execution_count": 94,
     "metadata": {},
     "output_type": "execute_result"
    },
    {
     "data": {
      "image/png": "[encoded data removed]",
      "text/plain": [
       "<Figure size 432x288 with 1 Axes>"
      ]
     },
     "metadata": {},
     "output_type": "display_data"
    }
   ],
   "source": [
    "plt.plot(preds, label=\"Predictions\")\n",
    "plt.plot(test_one_country[\"confirmed\"].tolist(), label=\"Ground truth\")\n",
    "plt.legend()"
   ]
  },
  {
   "cell_type": "code",
   "execution_count": 95,
   "metadata": {},
   "outputs": [
    {
     "data": {
      "text/plain": [
       "0.10323194018272533"
      ]
     },
     "execution_count": 95,
     "metadata": {},
     "output_type": "execute_result"
    }
   ],
   "source": [
    "MSLE_loss(test_one_country[\"confirmed\"].tolist(), preds)"
   ]
  },
  {
   "cell_type": "code",
   "execution_count": 24,
   "metadata": {},
   "outputs": [],
   "source": [
    "country_list = df[\"country\"].unique()"
   ]
  },
  {
   "cell_type": "code",
   "execution_count": 25,
   "metadata": {},
   "outputs": [
    {
     "name": "stderr",
     "output_type": "stream",
     "text": [
      "/home/ec2-user/anaconda3/envs/pytorch_p36/lib/python3.6/site-packages/statsmodels/base/model.py:488: HessianInversionWarning: Inverting hessian failed, no bse or cov_params available\n",
      "  'available', HessianInversionWarning)\n",
      "/home/ec2-user/anaconda3/envs/pytorch_p36/lib/python3.6/site-packages/statsmodels/base/model.py:488: HessianInversionWarning: Inverting hessian failed, no bse or cov_params available\n",
      "  'available', HessianInversionWarning)\n",
      "/home/ec2-user/anaconda3/envs/pytorch_p36/lib/python3.6/site-packages/statsmodels/base/model.py:488: HessianInversionWarning: Inverting hessian failed, no bse or cov_params available\n",
      "  'available', HessianInversionWarning)\n",
      "/home/ec2-user/anaconda3/envs/pytorch_p36/lib/python3.6/site-packages/statsmodels/base/model.py:488: HessianInversionWarning: Inverting hessian failed, no bse or cov_params available\n",
      "  'available', HessianInversionWarning)\n",
      "/home/ec2-user/anaconda3/envs/pytorch_p36/lib/python3.6/site-packages/statsmodels/base/model.py:488: HessianInversionWarning: Inverting hessian failed, no bse or cov_params available\n",
      "  'available', HessianInversionWarning)\n",
      "/home/ec2-user/anaconda3/envs/pytorch_p36/lib/python3.6/site-packages/statsmodels/base/model.py:488: HessianInversionWarning: Inverting hessian failed, no bse or cov_params available\n",
      "  'available', HessianInversionWarning)\n",
      "/home/ec2-user/anaconda3/envs/pytorch_p36/lib/python3.6/site-packages/statsmodels/base/model.py:508: ConvergenceWarning: Maximum Likelihood optimization failed to converge. Check mle_retvals\n",
      "  \"Check mle_retvals\", ConvergenceWarning)\n",
      "/home/ec2-user/anaconda3/envs/pytorch_p36/lib/python3.6/site-packages/statsmodels/base/model.py:488: HessianInversionWarning: Inverting hessian failed, no bse or cov_params available\n",
      "  'available', HessianInversionWarning)\n",
      "/home/ec2-user/anaconda3/envs/pytorch_p36/lib/python3.6/site-packages/statsmodels/base/model.py:508: ConvergenceWarning: Maximum Likelihood optimization failed to converge. Check mle_retvals\n",
      "  \"Check mle_retvals\", ConvergenceWarning)\n",
      "/home/ec2-user/anaconda3/envs/pytorch_p36/lib/python3.6/site-packages/statsmodels/base/model.py:488: HessianInversionWarning: Inverting hessian failed, no bse or cov_params available\n",
      "  'available', HessianInversionWarning)\n",
      "/home/ec2-user/anaconda3/envs/pytorch_p36/lib/python3.6/site-packages/statsmodels/base/model.py:508: ConvergenceWarning: Maximum Likelihood optimization failed to converge. Check mle_retvals\n",
      "  \"Check mle_retvals\", ConvergenceWarning)\n"
     ]
    }
   ],
   "source": [
    "loss, params = evaluate_arima_params(timeseries, test_one_country[\"confirmed\"], [0,1,2,4], [0,1,2,4], [0,1,2,4])"
   ]
  },
  {
   "cell_type": "code",
   "execution_count": null,
   "metadata": {},
   "outputs": [],
   "source": [
    "%%capture\n",
    "predictions = pd.DataFrame()\n",
    "for country in country_list:\n",
    "    timeseries = train_nash[train_nash[\"country\"] == country][\"confirmed\"].tolist()\n",
    "    test_one_country = test_nash[test_nash[\"country\"] == country]\n",
    "    if len(test_one_country) == 0:\n",
    "        print(f\"There is no test data for {country}\")\n",
    "        continue\n",
    "    loss, params = evaluate_arima_params(timeseries, test_one_country[\"confirmed\"], [0,1,2,4], [0,1,2,4], [0,1,2,4])\n",
    "    if len(timeseries) == 0:\n",
    "        preds = 0 * len(test_one_country)\n",
    "    elif len(timeseries) < len(test_one_country):\n",
    "        preds = timeseries[-1] * len(test_one_country)\n",
    "    else:\n",
    "        model = ARIMA(timeseries, order=params)\n",
    "        model = model.fit(disp=False)\n",
    "        preds = model.forecast(steps=len(test_one_country))[0]\n",
    "    test_one_country[\"predictions\"] = preds\n",
    "    predictions = predictions.append(test_one_country)"
   ]
  },
  {
   "cell_type": "code",
   "execution_count": null,
   "metadata": {},
   "outputs": [],
   "source": [
    "MSLE_loss(predictions[\"confirmed\"], predictions[\"predictions\"])"
   ]
  },
  {
   "cell_type": "markdown",
   "metadata": {},
   "source": [
    "### Fitting ARIMA model to the one country time series siries"
   ]
  },
  {
   "cell_type": "code",
   "execution_count": 52,
   "metadata": {},
   "outputs": [],
   "source": [
    "from statsmodels.tsa.arima_model import ARIMA"
   ]
  },
  {
   "cell_type": "code",
   "execution_count": 53,
   "metadata": {},
   "outputs": [],
   "source": [
    "country = \"Italy\""
   ]
  },
  {
   "cell_type": "code",
   "execution_count": 54,
   "metadata": {},
   "outputs": [],
   "source": [
    "timeseries = train[train[\"countriesAndTerritories\"] == country][\"cases\"].tolist()"
   ]
  },
  {
   "cell_type": "code",
   "execution_count": 55,
   "metadata": {},
   "outputs": [],
   "source": [
    "test_one_country = test[test[\"countriesAndTerritories\"] == country]"
   ]
  },
  {
   "cell_type": "code",
   "execution_count": 57,
   "metadata": {},
   "outputs": [
    {
     "data": {
      "text/plain": [
       "0.042310226659878956"
      ]
     },
     "execution_count": 57,
     "metadata": {},
     "output_type": "execute_result"
    }
   ],
   "source": [
    "run_arima(timeseries, test_one_country[\"cases\"], (1,0,1))"
   ]
  },
  {
   "cell_type": "code",
   "execution_count": 58,
   "metadata": {},
   "outputs": [
    {
     "name": "stderr",
     "output_type": "stream",
     "text": [
      "/home/ec2-user/anaconda3/envs/pytorch_p36/lib/python3.6/site-packages/statsmodels/base/model.py:488: HessianInversionWarning: Inverting hessian failed, no bse or cov_params available\n",
      "  'available', HessianInversionWarning)\n",
      "/home/ec2-user/anaconda3/envs/pytorch_p36/lib/python3.6/site-packages/statsmodels/base/model.py:488: HessianInversionWarning: Inverting hessian failed, no bse or cov_params available\n",
      "  'available', HessianInversionWarning)\n"
     ]
    },
    {
     "name": "stdout",
     "output_type": "stream",
     "text": [
      "Best ARIMA params (2, 0, 1) with loss=0.029138116424205735\n"
     ]
    },
    {
     "name": "stderr",
     "output_type": "stream",
     "text": [
      "/home/ec2-user/anaconda3/envs/pytorch_p36/lib/python3.6/site-packages/statsmodels/base/model.py:488: HessianInversionWarning: Inverting hessian failed, no bse or cov_params available\n",
      "  'available', HessianInversionWarning)\n"
     ]
    }
   ],
   "source": [
    "loss, params = evaluate_arima_params(timeseries, test_one_country[\"cases\"], [0,1,2], [0,1,2], [0,1,2], verbose=1)"
   ]
  },
  {
   "cell_type": "code",
   "execution_count": 59,
   "metadata": {},
   "outputs": [],
   "source": [
    "model = ARIMA(timeseries, order=params)"
   ]
  },
  {
   "cell_type": "code",
   "execution_count": 60,
   "metadata": {},
   "outputs": [],
   "source": [
    "model = model.fit(disp=False)"
   ]
  },
  {
   "cell_type": "code",
   "execution_count": 61,
   "metadata": {},
   "outputs": [],
   "source": [
    "preds = model.forecast(steps=len(test_one_country))[0]"
   ]
  },
  {
   "cell_type": "code",
   "execution_count": 62,
   "metadata": {},
   "outputs": [
    {
     "data": {
      "text/plain": [
       "<matplotlib.legend.Legend at 0x7f486409abe0>"
      ]
     },
     "execution_count": 62,
     "metadata": {},
     "output_type": "execute_result"
    },
    {
     "data": {
      "image/png": "[encoded data removed]",
      "text/plain": [
       "<Figure size 432x288 with 1 Axes>"
      ]
     },
     "metadata": {},
     "output_type": "display_data"
    }
   ],
   "source": [
    "plt.plot(preds, label=\"Predictions\")\n",
    "plt.plot(test_one_country[\"cases\"].tolist(), label=\"Ground truth\")\n",
    "plt.legend()"
   ]
  },
  {
   "cell_type": "markdown",
   "metadata": {},
   "source": [
    "### Run this on all countries"
   ]
  },
  {
   "cell_type": "code",
   "execution_count": 20,
   "metadata": {},
   "outputs": [],
   "source": [
    "country_list = dataset[\"countriesAndTerritories\"].unique()"
   ]
  },
  {
   "cell_type": "code",
   "execution_count": 21,
   "metadata": {},
   "outputs": [
    {
     "name": "stderr",
     "output_type": "stream",
     "text": [
      "/home/ec2-user/anaconda3/envs/pytorch_p36/lib/python3.6/site-packages/statsmodels/base/model.py:488: HessianInversionWarning: Inverting hessian failed, no bse or cov_params available\n",
      "  'available', HessianInversionWarning)\n",
      "/home/ec2-user/anaconda3/envs/pytorch_p36/lib/python3.6/site-packages/statsmodels/base/model.py:488: HessianInversionWarning: Inverting hessian failed, no bse or cov_params available\n",
      "  'available', HessianInversionWarning)\n",
      "/home/ec2-user/anaconda3/envs/pytorch_p36/lib/python3.6/site-packages/statsmodels/base/model.py:488: HessianInversionWarning: Inverting hessian failed, no bse or cov_params available\n",
      "  'available', HessianInversionWarning)\n"
     ]
    }
   ],
   "source": [
    "loss, params = evaluate_arima_params(timeseries, test_one_country[\"cases\"], [0,1,2], [0,1,2], [0,1,2])"
   ]
  },
  {
   "cell_type": "markdown",
   "metadata": {},
   "source": [
    "Next cell will take few minutes:"
   ]
  },
  {
   "cell_type": "code",
   "execution_count": 22,
   "metadata": {},
   "outputs": [],
   "source": [
    "%%capture\n",
    "predictions = pd.DataFrame()\n",
    "for country in country_list:\n",
    "    timeseries = train[train[\"countriesAndTerritories\"] == country][\"cases\"].tolist()\n",
    "    test_one_country = test[test[\"countriesAndTerritories\"] == country]\n",
    "    if len(test_one_country) == 0:\n",
    "        print(f\"There is no test data for {country}\")\n",
    "        continue\n",
    "    loss, params = evaluate_arima_params(timeseries, test_one_country[\"cases\"], [0,1,2], [0,1,2], [0,1,2])\n",
    "    if len(timeseries) == 0:\n",
    "        preds = 0 * len(test_one_country)\n",
    "    elif len(timeseries) < len(test_one_country):\n",
    "        preds = timeseries[-1] * len(test_one_country)\n",
    "    else:\n",
    "        model = ARIMA(timeseries, order=params)\n",
    "        model = model.fit(disp=False)\n",
    "        preds = model.forecast(steps=len(test_one_country))[0]\n",
    "    test_one_country[\"predictions\"] = preds\n",
    "    predictions = predictions.append(test_one_country)"
   ]
  },
  {
   "cell_type": "markdown",
   "metadata": {},
   "source": [
    "### Score on cases:"
   ]
  },
  {
   "cell_type": "code",
   "execution_count": 23,
   "metadata": {},
   "outputs": [
    {
     "data": {
      "text/plain": [
       "0.6496807493812081"
      ]
     },
     "execution_count": 23,
     "metadata": {},
     "output_type": "execute_result"
    }
   ],
   "source": [
    "MSLE_loss(predictions[\"cases\"], predictions[\"predictions\"])"
   ]
  },
  {
   "cell_type": "code",
   "execution_count": null,
   "metadata": {},
   "outputs": [],
   "source": []
  }
 ],
 "metadata": {
  "kernelspec": {
   "display_name": "conda_pytorch_p36",
   "language": "python",
   "name": "conda_pytorch_p36"
  },
  "language_info": {
   "codemirror_mode": {
    "name": "ipython",
    "version": 3
   },
   "file_extension": ".py",
   "mimetype": "text/x-python",
   "name": "python",
   "nbconvert_exporter": "python",
   "pygments_lexer": "ipython3",
   "version": "3.6.5"
  }
 },
 "nbformat": 4,
 "nbformat_minor": 4
}
