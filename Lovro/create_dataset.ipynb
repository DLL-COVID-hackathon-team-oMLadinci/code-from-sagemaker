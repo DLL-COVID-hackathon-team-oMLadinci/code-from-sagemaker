{
 "cells": [
  {
   "cell_type": "code",
   "execution_count": 5,
   "metadata": {},
   "outputs": [],
   "source": [
    "import os\n",
    "from pathlib import Path\n",
    "import urllib.request\n",
    "\n",
    "import pandas as pd\n",
    "import numpy as np\n",
    "import io\n",
    "import requests\n",
    "\n",
    "\n",
    "def download_world_bank_indicator(indicator_name: str, directory: str = \".\"):\n",
    "    directory = Path(directory)\n",
    "    file_path = directory / (indicator_name + \".csv\")\n",
    "    os.makedirs(directory, exist_ok=True)\n",
    "    data_url = f\"https://api.worldbank.org/indicator/{indicator_name}?format=csv\"\n",
    "    urllib.request.urlretrieve(data_url, file_path)\n",
    "\n",
    "\n",
    "def extract_series_of_newest_data(csv_path: str):\n",
    "    df = pd.read_csv(csv_path, index_col=[0, 1], header=0).T\n",
    "    recent_year = df.apply(pd.Series.last_valid_index)\n",
    "\n",
    "    nan_indicies = recent_year[recent_year.isna()].index\n",
    "    no_na_df = df.drop(nan_indicies, axis=1)\n",
    "\n",
    "    recent_year = no_na_df.apply(pd.Series.last_valid_index)\n",
    "    recent_data = no_na_df.lookup(recent_year, no_na_df.columns)\n",
    "    s = pd.Series(recent_data)\n",
    "    s.index = no_na_df.columns\n",
    "    return s\n",
    "\n",
    "\n",
    "def add_new_feature(\n",
    "    main_df: pd.DataFrame, additional_feature: pd.Series, name: str\n",
    ") -> pd.DataFrame:\n",
    "    tmp_df = main_df.set_index(\"countryterritoryCode\")\n",
    "    additional_feature = additional_feature.reset_index().set_index(\"Country Code\")\n",
    "    tmp_df[name] = additional_feature[0]\n",
    "    return tmp_df.reset_index()"
   ]
  },
  {
   "cell_type": "code",
   "execution_count": 6,
   "metadata": {},
   "outputs": [],
   "source": [
    "indicator_names = {\n",
    "    \"GDP (current US$)\": \"NY.GDP.MKTP.CD\",\n",
    "    \"GDP per capita (current US$)\": \"NY.GDP.PCAP.CD\",\n",
    "    \"Access to electricity (% of population)\": \"EG.ELC.ACCS.ZS\",\n",
    "    \"Current health expenditure per capita (current US$)\": \"SH.XPD.CHEX.PC.CD\",\n",
    "    \"Current health expenditure (% of GDP)\": \"SH.XPD.CHEX.GD.ZS\",\n",
    "    \"Hospital beds (per 1,000 people)\": \"SH.MED.BEDS.ZS\",\n",
    "    \"Population density\": \"EN.POP.DNST\",\n",
    "    \"Urban population\": \"SP.URB.TOTL.IN.ZS\",\n",
    "    \n",
    "}"
   ]
  },
  {
   "cell_type": "code",
   "execution_count": null,
   "metadata": {},
   "outputs": [],
   "source": []
  },
  {
   "cell_type": "code",
   "execution_count": 3,
   "metadata": {},
   "outputs": [],
   "source": [
    "data_dir = Path(\"data\")\n",
    "dataset_output_path = \"DLL_COVID_TRAIN.csv\""
   ]
  },
  {
   "cell_type": "code",
   "execution_count": 4,
   "metadata": {},
   "outputs": [],
   "source": [
    "\n",
    "df = pd.read_csv(\n",
    "    io.StringIO(\n",
    "        requests.get(\n",
    "            \"https://opendata.ecdc.europa.eu/covid19/casedistribution/csv\"\n",
    "        ).content.decode(\"utf-8\")\n",
    "    ),\n",
    "    usecols=[\n",
    "        \"dateRep\",\n",
    "        \"cases\",\n",
    "        \"deaths\",\n",
    "        \"countriesAndTerritories\",\n",
    "        \"popData2018\",\n",
    "        \"countryterritoryCode\",\n",
    "    ],\n",
    "    parse_dates=[\"dateRep\"],\n",
    "    infer_datetime_format=True,\n",
    ")\n",
    "\n",
    "for key, value in indicator_names.items():\n",
    "    download_world_bank_indicator(value, directory=data_dir)\n",
    "    csv_path = data_dir / (value + \".csv\")\n",
    "    new_feature = extract_series_of_newest_data(csv_path)\n",
    "    df = add_new_feature(df, new_feature, key)\n",
    "    \n",
    "df = df.dropna(subset=[\"countryterritoryCode\"])\n",
    "df.to_csv(dataset_output_path, index=False)"
   ]
  },
  {
   "cell_type": "code",
   "execution_count": null,
   "metadata": {},
   "outputs": [],
   "source": []
  }
 ],
 "metadata": {
  "kernelspec": {
   "display_name": "conda_pytorch_p36",
   "language": "python",
   "name": "conda_pytorch_p36"
  },
  "language_info": {
   "codemirror_mode": {
    "name": "ipython",
    "version": 3
   },
   "file_extension": ".py",
   "mimetype": "text/x-python",
   "name": "python",
   "nbconvert_exporter": "python",
   "pygments_lexer": "ipython3",
   "version": "3.6.5"
  }
 },
 "nbformat": 4,
 "nbformat_minor": 4
}
